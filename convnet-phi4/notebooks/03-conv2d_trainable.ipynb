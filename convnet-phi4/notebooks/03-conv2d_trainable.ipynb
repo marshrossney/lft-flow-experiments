{
 "cells": [
  {
   "cell_type": "markdown",
   "id": "2b13596d-8796-4d53-8236-ffd4ebc33942",
   "metadata": {},
   "source": [
    "# Trainable convolutions as density transformations "
   ]
  },
  {
   "cell_type": "code",
   "execution_count": 1,
   "id": "660d6134-3b1e-4a0b-b02b-622bdfbe9a16",
   "metadata": {},
   "outputs": [],
   "source": [
    "import itertools\n",
    "import torch\n",
    "import matplotlib.pyplot as plt\n",
    "from mpl_toolkits.axes_grid1 import make_axes_locatable\n",
    "import math\n",
    "import pytorch_lightning as pl\n",
    "from pytorch_lightning.callbacks import RichProgressBar\n",
    "import tqdm\n",
    "import pandas as pd\n",
    "import numpy as np\n",
    "\n",
    "import torchlft.distributions\n",
    "import torchlft.metrics\n",
    "\n",
    "import convnet_phi4.plot\n",
    "\n",
    "%load_ext lab_black\n",
    "\n",
    "PI = math.pi\n",
    "\n",
    "torch.set_printoptions(precision=3, sci_mode=False, threshold=4000)"
   ]
  },
  {
   "cell_type": "code",
   "execution_count": 2,
   "id": "ed752d4b-4e91-4739-bc81-09c225296a0d",
   "metadata": {},
   "outputs": [],
   "source": [
    "class ConvLayer(torch.nn.Module):\n",
    "    def __init__(self, init_kernel: torch.Tensor):\n",
    "        super().__init__()\n",
    "        assert init_kernel.shape[-1] == init_kernel.shape[-2]\n",
    "\n",
    "        self.kernel_size = init_kernel.shape[1]\n",
    "        self.kernel_radius = self.kernel_size // 2\n",
    "\n",
    "        self.kernel = torch.nn.Parameter(init_kernel)\n",
    "\n",
    "    def kernel_as_matrix(self, lattice_size: int):\n",
    "        kernel_padded_rolled = torch.nn.functional.pad(\n",
    "            self.kernel,\n",
    "            (\n",
    "                0,\n",
    "                lattice_size - self.kernel_size,\n",
    "                0,\n",
    "                lattice_size - self.kernel_size,\n",
    "            ),\n",
    "            mode=\"constant\",\n",
    "            value=0,\n",
    "        ).roll((-self.kernel_radius, -self.kernel_radius), (0, 1))\n",
    "        return torch.stack(\n",
    "            [\n",
    "                kernel_padded_rolled.roll((x1, x2), dims=(0, 1)).flatten()\n",
    "                for x1, x2 in itertools.product(\n",
    "                    range(lattice_size), range(lattice_size)\n",
    "                )\n",
    "            ],\n",
    "            dim=0,\n",
    "        )\n",
    "\n",
    "    def conv2d_forward(self, phi: torch.Tensor):\n",
    "        assert phi.dim() == 3\n",
    "        assert phi.shape[1] == phi.shape[2]\n",
    "        lattice_size = phi.shape[1]\n",
    "\n",
    "        kernel = self.kernel.view(1, 1, self.kernel_size, self.kernel_size)\n",
    "        phi = torch.nn.functional.pad(\n",
    "            phi.unsqueeze(dim=1),  # (n_batch, n_channels=1, width, height)\n",
    "            pad=(self.kernel_radius,) * 4,\n",
    "            mode=\"circular\",\n",
    "        )\n",
    "        phi = torch.nn.functional.conv2d(phi, kernel).squeeze(dim=1)\n",
    "\n",
    "        return phi\n",
    "\n",
    "    def matmul_forward(self, phi: torch.Tensor):\n",
    "        assert phi.dim() == 3\n",
    "        assert phi.shape[1] == phi.shape[2]\n",
    "        lattice_size = phi.shape[1]\n",
    "\n",
    "        phi = phi.flatten(start_dim=1)  # (n_batch, L * L)\n",
    "        phi = torch.mm(\n",
    "            phi, self.kernel_as_matrix(lattice_size).T\n",
    "        )  # batch dimension = matrix rows\n",
    "        phi = phi.view(-1, lattice_size, lattice_size)\n",
    "\n",
    "        return phi\n",
    "\n",
    "    def forward(self, phi: torch.Tensor, log_prob: torch.Tensor):\n",
    "        assert phi.dim() == 3\n",
    "        assert phi.shape[1] == phi.shape[2]\n",
    "        assert log_prob.dim() == 1\n",
    "        assert log_prob.shape[0] == phi.shape[0]\n",
    "        lattice_size = phi.shape[1]\n",
    "\n",
    "        phi = self.conv2d_forward(phi)\n",
    "        log_det_jacob = torch.slogdet(self.kernel_as_matrix(lattice_size)).logabsdet\n",
    "        log_prob.sub_(log_det_jacob)\n",
    "\n",
    "        return phi, log_prob\n",
    "\n",
    "    @torch.no_grad()\n",
    "    def visualise(self):\n",
    "        fig, ax = plt.subplots()\n",
    "        ax.set_title(\"Convolution kernel\")\n",
    "        ax.set_xticks([])\n",
    "        ax.set_xticklabels([])\n",
    "        ax.set_yticks([])\n",
    "        ax.set_yticklabels([])\n",
    "        im = ax.imshow(self.kernel)\n",
    "        fig.colorbar(im)\n",
    "\n",
    "        return fig\n",
    "\n",
    "\n",
    "_kernel = torch.Tensor(\n",
    "    [\n",
    "        [0, 1, 0],\n",
    "        [1, 1, 1],\n",
    "        [0, 1, 0],\n",
    "    ]\n",
    ")\n",
    "_layer = ConvLayer(init_kernel=_kernel)\n",
    "_phi = torch.empty(10, 6, 6).normal_()\n",
    "_conv2d_out = _layer.conv2d_forward(_phi)\n",
    "_matmul_out = _layer.matmul_forward(_phi)\n",
    "assert torch.allclose(_conv2d_out, _matmul_out, atol=1e-6)"
   ]
  },
  {
   "cell_type": "code",
   "execution_count": 3,
   "id": "a1506da2-ce6b-4ec8-ab68-f2a848debadd",
   "metadata": {},
   "outputs": [
    {
     "name": "stdout",
     "output_type": "stream",
     "text": [
      "tensor([[0.770, 0.000, 0.000, 0.000, 0.000, 0.000],\n",
      "        [0.044, 0.281, 0.000, 0.000, 0.000, 0.000],\n",
      "        [0.613, 0.839, 0.042, 0.000, 0.000, 0.000],\n",
      "        [0.076, 0.353, 0.556, 0.236, 0.000, 0.000],\n",
      "        [0.488, 0.602, 0.740, 0.872, 0.789, 0.000],\n",
      "        [0.711, 0.149, 0.300, 0.413, 0.864, 0.804]])\n"
     ]
    },
    {
     "data": {
      "text/plain": [
       "tensor([[0.770, 0.044, 0.613, 0.076, 0.488, 0.711],\n",
       "        [0.044, 0.281, 0.839, 0.353, 0.602, 0.149],\n",
       "        [0.613, 0.839, 0.042, 0.556, 0.740, 0.300],\n",
       "        [0.076, 0.353, 0.556, 0.236, 0.872, 0.413],\n",
       "        [0.488, 0.602, 0.740, 0.872, 0.789, 0.864],\n",
       "        [0.711, 0.149, 0.300, 0.413, 0.864, 0.804]])"
      ]
     },
     "execution_count": 3,
     "metadata": {},
     "output_type": "execute_result"
    }
   ],
   "source": [
    "x = torch.rand(6, 6)\n",
    "x.tril_()\n",
    "print(x)\n",
    "x.add_(x.tril(-1).T)"
   ]
  },
  {
   "cell_type": "code",
   "execution_count": 36,
   "id": "56aac26a-b63f-4f78-825d-e634b2a9f440",
   "metadata": {},
   "outputs": [],
   "source": [
    "class RotationInvariantConvLayer(torch.nn.Module):\n",
    "    def __init__(self, init_kernel: torch.Tensor):\n",
    "        super().__init__()\n",
    "        assert init_kernel.shape[0] == init_kernel.shape[1]\n",
    "        assert torch.allclose(\n",
    "            init_kernel.triu(diagonal=1), torch.zeros_like(init_kernel)\n",
    "        )\n",
    "\n",
    "        self.register_buffer(\"_mask\", torch.ones_like(init_kernel).tril().bool())\n",
    "\n",
    "        self._kernel = torch.nn.Parameter(init_kernel[self._mask])\n",
    "\n",
    "        self.kernel_radius = init_kernel.shape[0] - 1\n",
    "        self.kernel_size = self.kernel_radius * 2 + 1\n",
    "\n",
    "    @property\n",
    "    def kernel(self) -> torch.Tensor:\n",
    "        \"\"\"Returns square kernel to input into conv2d\"\"\"\n",
    "        lower_right = torch.zeros(\n",
    "            self.kernel_radius + 1, self.kernel_radius + 1\n",
    "        ).type_as(self._kernel)\n",
    "        lower_right.masked_scatter_(mask=self._mask, source=self._kernel)\n",
    "        lower_right.add_(lower_right.tril(-1).T)\n",
    "\n",
    "        kernel = torch.zeros(self.kernel_size, self.kernel_size).type_as(self._kernel)\n",
    "        kernel[self.kernel_radius :, self.kernel_radius :] = lower_right\n",
    "\n",
    "        vline = torch.ones(self.kernel_size, self.kernel_size).type_as(self._kernel)\n",
    "        hline = vline.clone()\n",
    "        vline[:, self.kernel_radius] = 0\n",
    "        hline[self.kernel_radius, :] = 0\n",
    "\n",
    "        kernel.add_(kernel.flip(0).mul(hline))\n",
    "        kernel.add_(kernel.flip(1).mul(vline))\n",
    "\n",
    "        return kernel\n",
    "\n",
    "    def kernel_as_matrix(self, lattice_size: int):\n",
    "        kernel_padded_rolled = torch.nn.functional.pad(\n",
    "            self.kernel,\n",
    "            (\n",
    "                0,\n",
    "                lattice_size - self.kernel_size,\n",
    "                0,\n",
    "                lattice_size - self.kernel_size,\n",
    "            ),\n",
    "            mode=\"constant\",\n",
    "            value=0,\n",
    "        ).roll((-self.kernel_radius, -self.kernel_radius), (0, 1))\n",
    "        return torch.stack(\n",
    "            [\n",
    "                kernel_padded_rolled.roll((x1, x2), dims=(0, 1)).flatten()\n",
    "                for x1, x2 in itertools.product(\n",
    "                    range(lattice_size), range(lattice_size)\n",
    "                )\n",
    "            ],\n",
    "            dim=0,\n",
    "        )\n",
    "\n",
    "    def conv2d_forward(self, phi: torch.Tensor):\n",
    "        assert phi.dim() == 3\n",
    "        assert phi.shape[1] == phi.shape[2]\n",
    "        lattice_size = phi.shape[1]\n",
    "\n",
    "        kernel = self.kernel.view(1, 1, self.kernel_size, self.kernel_size)\n",
    "        phi = torch.nn.functional.pad(\n",
    "            phi.unsqueeze(dim=1),  # (n_batch, n_channels=1, width, height)\n",
    "            pad=(self.kernel_radius,) * 4,\n",
    "            mode=\"circular\",\n",
    "        )\n",
    "        phi = torch.nn.functional.conv2d(phi, kernel).squeeze(dim=1)\n",
    "\n",
    "        return phi\n",
    "\n",
    "    def matmul_forward(self, phi: torch.Tensor):\n",
    "        assert phi.dim() == 3\n",
    "        assert phi.shape[1] == phi.shape[2]\n",
    "        lattice_size = phi.shape[1]\n",
    "\n",
    "        phi = phi.flatten(start_dim=1)  # (n_batch, L * L)\n",
    "        phi = torch.mm(\n",
    "            phi, self.kernel_as_matrix(lattice_size).T\n",
    "        )  # batch dimension = matrix rows\n",
    "        phi = phi.view(-1, lattice_size, lattice_size)\n",
    "\n",
    "        return phi\n",
    "\n",
    "    def forward(self, phi: torch.Tensor, log_prob: torch.Tensor):\n",
    "        assert phi.dim() == 3\n",
    "        assert phi.shape[1] == phi.shape[2]\n",
    "        assert log_prob.dim() == 1\n",
    "        assert log_prob.shape[0] == phi.shape[0]\n",
    "        lattice_size = phi.shape[1]\n",
    "\n",
    "        phi = self.conv2d_forward(phi)\n",
    "        log_det_jacob = torch.slogdet(self.kernel_as_matrix(lattice_size)).logabsdet\n",
    "        log_prob.sub_(log_det_jacob)\n",
    "\n",
    "        return phi, log_prob\n",
    "\n",
    "    @torch.no_grad()\n",
    "    def visualise(self):\n",
    "        fig, ax = plt.subplots()\n",
    "        ax.set_title(\"Convolution kernel\")\n",
    "        ax.set_xticks([])\n",
    "        ax.set_xticklabels([])\n",
    "        ax.set_yticks([])\n",
    "        ax.set_yticklabels([])\n",
    "        im = ax.imshow(self.kernel)\n",
    "        fig.colorbar(im)\n",
    "\n",
    "        return fig\n",
    "\n",
    "\n",
    "_kernel = torch.Tensor(\n",
    "    [\n",
    "        [1, 0, 0],\n",
    "        [2, 4, 0],\n",
    "        [3, 5, 6],\n",
    "    ]\n",
    ")\n",
    "_layer = RotationInvariantConvLayer(init_kernel=_kernel)\n",
    "_phi = torch.empty(10, 6, 6).normal_()\n",
    "assert torch.allclose(_kernel, _layer.kernel[2:, 2:].tril())\n",
    "\n",
    "_conv2d_out = _layer.conv2d_forward(_phi)\n",
    "_matmul_out = _layer.matmul_forward(_phi)\n",
    "assert torch.allclose(_conv2d_out, _matmul_out, atol=1e-6)"
   ]
  },
  {
   "cell_type": "code",
   "execution_count": 5,
   "id": "48ed0b66-f12f-4871-a327-b8d1c362f96f",
   "metadata": {},
   "outputs": [],
   "source": [
    "class Model(pl.LightningModule):\n",
    "    def __init__(self, layers, target, batch_size, lattice_size):\n",
    "        super().__init__()\n",
    "\n",
    "        self.layers = torch.nn.ModuleList(layers)\n",
    "        self.target = target\n",
    "\n",
    "        self.batch_size = batch_size\n",
    "        self.lattice_size = lattice_size\n",
    "\n",
    "        self.gauss = torch.distributions.Normal(\n",
    "            loc=torch.zeros(self.lattice_size, self.lattice_size),\n",
    "            scale=torch.ones(self.lattice_size, self.lattice_size),\n",
    "        )\n",
    "\n",
    "    def forward(self, batch):\n",
    "        phi, log_prob = batch\n",
    "        for layer in self.layers:\n",
    "            phi, log_prob = layer(phi, log_prob)\n",
    "        log_weights = self.target.log_prob(phi) - log_prob\n",
    "        return phi, log_weights\n",
    "\n",
    "    def training_step(self, batch, batch_idx):\n",
    "        phi, log_weights = self.forward(batch)\n",
    "        loss = log_weights.mean().neg()\n",
    "        self.log(\"loss\", loss, logger=True)\n",
    "        self.lr_schedulers().step()\n",
    "        return loss\n",
    "\n",
    "    def train_dataloader(self):\n",
    "        return torchlft.distributions.Prior(self.gauss, self.batch_size)\n",
    "\n",
    "    def validation_step(self, batch, batch_idx):\n",
    "        phi, log_weights = self.forward(batch)\n",
    "        metrics = torchlft.metrics.LogWeightMetrics(log_weights)\n",
    "        metrics_dict = dict(\n",
    "            kl=metrics.kl_divergence,\n",
    "            acc=metrics.acceptance,\n",
    "            r_max=float(metrics.longest_rejection_run),\n",
    "            tau=metrics.integrated_autocorrelation,\n",
    "            ess=metrics.effective_sample_size,\n",
    "        )\n",
    "        self.log_dict(metrics_dict, prog_bar=False, logger=True)\n",
    "        return metrics_dict\n",
    "\n",
    "    def val_dataloader(self):\n",
    "        return torchlft.distributions.Prior(self.gauss, 10000)\n",
    "\n",
    "    def configure_optimizers(self):\n",
    "        optimizer = torch.optim.Adam(self.layers.parameters(), lr=0.01)\n",
    "        scheduler = torch.optim.lr_scheduler.CosineAnnealingLR(\n",
    "            optimizer, T_max=self.trainer.max_steps\n",
    "        )\n",
    "        return [optimizer], [scheduler]\n",
    "\n",
    "    @torch.no_grad()\n",
    "    def step_forward(self):\n",
    "        phi, log_prob = next(self.val_dataloader())\n",
    "\n",
    "        yield phi, log_prob\n",
    "        for layer in self.layers:\n",
    "            phi, log_prob = layer(phi, log_prob)\n",
    "            yield phi, log_prob"
   ]
  },
  {
   "cell_type": "markdown",
   "id": "c0e69d05-a7ed-4bcf-b478-9814c758cecc",
   "metadata": {},
   "source": [
    "# Free theory\n",
    "\n",
    "I expect a convolution with kernel size = lattice size to be able to do a perfect job at modelling the free theory, since it's just an affine transformation of the standard diagonal Gaussian."
   ]
  },
  {
   "cell_type": "code",
   "execution_count": 6,
   "id": "8e0593a6-17ac-4153-9e87-1623c13b70cd",
   "metadata": {},
   "outputs": [],
   "source": [
    "class FreeTheoryTarget:\n",
    "    def __init__(self, m_sq: int):\n",
    "        self.m_sq = m_sq\n",
    "\n",
    "    def action(self, phi: torch.Tensor):\n",
    "        assert phi.dim() == 3\n",
    "\n",
    "        action_density = torch.zeros_like(phi)\n",
    "        action_density.sub_(phi.mul(phi.roll(-1, 1)))\n",
    "        action_density.sub_(phi.mul(phi.roll(-1, 2)))\n",
    "        action_density.add_(phi.pow(2).mul((4 + self.m_sq) / 2))\n",
    "\n",
    "        return action_density.flatten(start_dim=1).sum(dim=1)\n",
    "\n",
    "    def log_prob(self, phi: torch.Tensor):\n",
    "        return self.action(phi).neg()"
   ]
  },
  {
   "cell_type": "markdown",
   "id": "52318768-c606-407d-9c25-3c20adfc1687",
   "metadata": {
    "tags": []
   },
   "source": [
    "## No rotational symmetry"
   ]
  },
  {
   "cell_type": "code",
   "execution_count": 23,
   "id": "2169a4d8-db4e-401d-bd17-7caa0ac6dacc",
   "metadata": {},
   "outputs": [
    {
     "data": {
      "text/html": [
       "<pre style=\"white-space:pre;overflow-x:auto;line-height:normal;font-family:Menlo,'DejaVu Sans Mono',consolas,'Courier New',monospace\">┏━━━┳━━━━━━━━┳━━━━━━━━━━━━┳━━━━━━━━┓\n",
       "┃<span style=\"color: #800080; text-decoration-color: #800080; font-weight: bold\">   </span>┃<span style=\"color: #800080; text-decoration-color: #800080; font-weight: bold\"> Name   </span>┃<span style=\"color: #800080; text-decoration-color: #800080; font-weight: bold\"> Type       </span>┃<span style=\"color: #800080; text-decoration-color: #800080; font-weight: bold\"> Params </span>┃\n",
       "┡━━━╇━━━━━━━━╇━━━━━━━━━━━━╇━━━━━━━━┩\n",
       "│<span style=\"color: #7f7f7f; text-decoration-color: #7f7f7f\"> 0 </span>│ layers │ ModuleList │      9 │\n",
       "└───┴────────┴────────────┴────────┘\n",
       "</pre>\n"
      ],
      "text/plain": [
       "┏━━━┳━━━━━━━━┳━━━━━━━━━━━━┳━━━━━━━━┓\n",
       "┃\u001b[1;35m \u001b[0m\u001b[1;35m \u001b[0m\u001b[1;35m \u001b[0m┃\u001b[1;35m \u001b[0m\u001b[1;35mName  \u001b[0m\u001b[1;35m \u001b[0m┃\u001b[1;35m \u001b[0m\u001b[1;35mType      \u001b[0m\u001b[1;35m \u001b[0m┃\u001b[1;35m \u001b[0m\u001b[1;35mParams\u001b[0m\u001b[1;35m \u001b[0m┃\n",
       "┡━━━╇━━━━━━━━╇━━━━━━━━━━━━╇━━━━━━━━┩\n",
       "│\u001b[2m \u001b[0m\u001b[2m0\u001b[0m\u001b[2m \u001b[0m│ layers │ ModuleList │      9 │\n",
       "└───┴────────┴────────────┴────────┘\n"
      ]
     },
     "metadata": {},
     "output_type": "display_data"
    },
    {
     "data": {
      "text/html": [
       "<pre style=\"white-space:pre;overflow-x:auto;line-height:normal;font-family:Menlo,'DejaVu Sans Mono',consolas,'Courier New',monospace\"><span style=\"font-weight: bold\">Trainable params</span>: 9                                                                          \n",
       "<span style=\"font-weight: bold\">Non-trainable params</span>: 0                                                                      \n",
       "<span style=\"font-weight: bold\">Total params</span>: 9                                                                              \n",
       "<span style=\"font-weight: bold\">Total estimated model params size (MB)</span>: 0                                                    \n",
       "</pre>\n"
      ],
      "text/plain": [
       "\u001b[1mTrainable params\u001b[0m: 9                                                                          \n",
       "\u001b[1mNon-trainable params\u001b[0m: 0                                                                      \n",
       "\u001b[1mTotal params\u001b[0m: 9                                                                              \n",
       "\u001b[1mTotal estimated model params size (MB)\u001b[0m: 0                                                    \n"
      ]
     },
     "metadata": {},
     "output_type": "display_data"
    },
    {
     "data": {
      "application/vnd.jupyter.widget-view+json": {
       "model_id": "52cf1e5736664a7faa9e95de72041376",
       "version_major": 2,
       "version_minor": 0
      },
      "text/plain": [
       "Output()"
      ]
     },
     "metadata": {},
     "output_type": "display_data"
    },
    {
     "data": {
      "text/html": [
       "<pre style=\"white-space:pre;overflow-x:auto;line-height:normal;font-family:Menlo,'DejaVu Sans Mono',consolas,'Courier New',monospace\"></pre>\n"
      ],
      "text/plain": []
     },
     "metadata": {},
     "output_type": "display_data"
    },
    {
     "data": {
      "text/html": [
       "<pre style=\"white-space:pre;overflow-x:auto;line-height:normal;font-family:Menlo,'DejaVu Sans Mono',consolas,'Courier New',monospace\">\n",
       "</pre>\n"
      ],
      "text/plain": [
       "\n"
      ]
     },
     "metadata": {},
     "output_type": "display_data"
    },
    {
     "data": {
      "application/vnd.jupyter.widget-view+json": {
       "model_id": "246453559fbb42088cf02e70e3d9b1b2",
       "version_major": 2,
       "version_minor": 0
      },
      "text/plain": [
       "Output()"
      ]
     },
     "metadata": {},
     "output_type": "display_data"
    },
    {
     "data": {
      "text/html": [
       "<pre style=\"white-space:pre;overflow-x:auto;line-height:normal;font-family:Menlo,'DejaVu Sans Mono',consolas,'Courier New',monospace\">┏━━━━━━━━━━━━━━━━━━━━━━━━━━━┳━━━━━━━━━━━━━━━━━━━━━━━━━━━┓\n",
       "┃<span style=\"font-weight: bold\">      Validate metric      </span>┃<span style=\"font-weight: bold\">       DataLoader 0        </span>┃\n",
       "┡━━━━━━━━━━━━━━━━━━━━━━━━━━━╇━━━━━━━━━━━━━━━━━━━━━━━━━━━┩\n",
       "│<span style=\"color: #008080; text-decoration-color: #008080\">            acc            </span>│<span style=\"color: #800080; text-decoration-color: #800080\">    0.9248924851417542     </span>│\n",
       "│<span style=\"color: #008080; text-decoration-color: #008080\">            ess            </span>│<span style=\"color: #800080; text-decoration-color: #800080\">    0.9800973534584045     </span>│\n",
       "│<span style=\"color: #008080; text-decoration-color: #008080\">            kl             </span>│<span style=\"color: #800080; text-decoration-color: #800080\">    -2.677448272705078     </span>│\n",
       "│<span style=\"color: #008080; text-decoration-color: #008080\">           r_max           </span>│<span style=\"color: #800080; text-decoration-color: #800080\">            5.0            </span>│\n",
       "│<span style=\"color: #008080; text-decoration-color: #008080\">            tau            </span>│<span style=\"color: #800080; text-decoration-color: #800080\">    0.5882104635238647     </span>│\n",
       "└───────────────────────────┴───────────────────────────┘\n",
       "</pre>\n"
      ],
      "text/plain": [
       "┏━━━━━━━━━━━━━━━━━━━━━━━━━━━┳━━━━━━━━━━━━━━━━━━━━━━━━━━━┓\n",
       "┃\u001b[1m \u001b[0m\u001b[1m     Validate metric     \u001b[0m\u001b[1m \u001b[0m┃\u001b[1m \u001b[0m\u001b[1m      DataLoader 0       \u001b[0m\u001b[1m \u001b[0m┃\n",
       "┡━━━━━━━━━━━━━━━━━━━━━━━━━━━╇━━━━━━━━━━━━━━━━━━━━━━━━━━━┩\n",
       "│\u001b[36m \u001b[0m\u001b[36m           acc           \u001b[0m\u001b[36m \u001b[0m│\u001b[35m \u001b[0m\u001b[35m   0.9248924851417542    \u001b[0m\u001b[35m \u001b[0m│\n",
       "│\u001b[36m \u001b[0m\u001b[36m           ess           \u001b[0m\u001b[36m \u001b[0m│\u001b[35m \u001b[0m\u001b[35m   0.9800973534584045    \u001b[0m\u001b[35m \u001b[0m│\n",
       "│\u001b[36m \u001b[0m\u001b[36m           kl            \u001b[0m\u001b[36m \u001b[0m│\u001b[35m \u001b[0m\u001b[35m   -2.677448272705078    \u001b[0m\u001b[35m \u001b[0m│\n",
       "│\u001b[36m \u001b[0m\u001b[36m          r_max          \u001b[0m\u001b[36m \u001b[0m│\u001b[35m \u001b[0m\u001b[35m           5.0           \u001b[0m\u001b[35m \u001b[0m│\n",
       "│\u001b[36m \u001b[0m\u001b[36m           tau           \u001b[0m\u001b[36m \u001b[0m│\u001b[35m \u001b[0m\u001b[35m   0.5882104635238647    \u001b[0m\u001b[35m \u001b[0m│\n",
       "└───────────────────────────┴───────────────────────────┘\n"
      ]
     },
     "metadata": {},
     "output_type": "display_data"
    },
    {
     "data": {
      "text/html": [
       "<pre style=\"white-space:pre;overflow-x:auto;line-height:normal;font-family:Menlo,'DejaVu Sans Mono',consolas,'Courier New',monospace\"></pre>\n"
      ],
      "text/plain": []
     },
     "metadata": {},
     "output_type": "display_data"
    },
    {
     "data": {
      "text/html": [
       "<pre style=\"white-space:pre;overflow-x:auto;line-height:normal;font-family:Menlo,'DejaVu Sans Mono',consolas,'Courier New',monospace\">\n",
       "</pre>\n"
      ],
      "text/plain": [
       "\n"
      ]
     },
     "metadata": {},
     "output_type": "display_data"
    },
    {
     "data": {
      "image/png": "[encoded data removed]",
      "text/plain": [
       "<Figure size 432x288 with 2 Axes>"
      ]
     },
     "metadata": {
      "needs_background": "light"
     },
     "output_type": "display_data"
    },
    {
     "data": {
      "image/png": "[encoded data removed]",
      "text/plain": [
       "<Figure size 432x288 with 2 Axes>"
      ]
     },
     "metadata": {
      "needs_background": "light"
     },
     "output_type": "display_data"
    },
    {
     "data": {
      "image/png": "[encoded data removed]",
      "text/plain": [
       "<Figure size 432x288 with 2 Axes>"
      ]
     },
     "metadata": {
      "needs_background": "light"
     },
     "output_type": "display_data"
    },
    {
     "data": {
      "image/png": "[encoded data removed]",
      "text/plain": [
       "<Figure size 432x288 with 2 Axes>"
      ]
     },
     "metadata": {
      "needs_background": "light"
     },
     "output_type": "display_data"
    }
   ],
   "source": [
    "L = 4\n",
    "M_SQ = (4 / L) ** 2\n",
    "BATCH_SIZE = 4000\n",
    "N_STEPS = 1000\n",
    "\n",
    "kernel = torch.empty(3, 3).uniform_().div(3)\n",
    "target = FreeTheoryTarget(M_SQ)\n",
    "layers = [ConvLayer(kernel)]\n",
    "model = Model(layers, target, BATCH_SIZE, L)\n",
    "model.layers[0].visualise()\n",
    "\n",
    "trainer = pl.Trainer(\n",
    "    gpus=1,\n",
    "    max_steps=N_STEPS,  # total number of training steps\n",
    "    val_check_interval=10000,  # how often to run sampling\n",
    "    limit_val_batches=1,  # one batch for each val step\n",
    "    callbacks=[RichProgressBar()],\n",
    "    enable_checkpointing=False,  # manually saving checkpoints\n",
    "    num_sanity_val_steps=0,  # don't try to validate before training\n",
    ")\n",
    "\n",
    "\n",
    "trainer.fit(model)\n",
    "_ = trainer.validate(model)\n",
    "\n",
    "outputs = model.step_forward()\n",
    "phi, log_prob = next(outputs)  # prior\n",
    "convnet_phi4.plot.heatmap_correlator(phi)\n",
    "for layer, (phi, log_prob) in zip(model.layers, outputs):\n",
    "    layer.visualise()\n",
    "    convnet_phi4.plot.heatmap_correlator(phi)\n",
    "\n",
    "plt.show()"
   ]
  },
  {
   "cell_type": "code",
   "execution_count": 25,
   "id": "acaf6ba0-c84b-4fff-a362-f0d5ed78e131",
   "metadata": {},
   "outputs": [
    {
     "data": {
      "text/html": [
       "<pre style=\"white-space:pre;overflow-x:auto;line-height:normal;font-family:Menlo,'DejaVu Sans Mono',consolas,'Courier New',monospace\">┏━━━┳━━━━━━━━┳━━━━━━━━━━━━┳━━━━━━━━┓\n",
       "┃<span style=\"color: #800080; text-decoration-color: #800080; font-weight: bold\">   </span>┃<span style=\"color: #800080; text-decoration-color: #800080; font-weight: bold\"> Name   </span>┃<span style=\"color: #800080; text-decoration-color: #800080; font-weight: bold\"> Type       </span>┃<span style=\"color: #800080; text-decoration-color: #800080; font-weight: bold\"> Params </span>┃\n",
       "┡━━━╇━━━━━━━━╇━━━━━━━━━━━━╇━━━━━━━━┩\n",
       "│<span style=\"color: #7f7f7f; text-decoration-color: #7f7f7f\"> 0 </span>│ layers │ ModuleList │     25 │\n",
       "└───┴────────┴────────────┴────────┘\n",
       "</pre>\n"
      ],
      "text/plain": [
       "┏━━━┳━━━━━━━━┳━━━━━━━━━━━━┳━━━━━━━━┓\n",
       "┃\u001b[1;35m \u001b[0m\u001b[1;35m \u001b[0m\u001b[1;35m \u001b[0m┃\u001b[1;35m \u001b[0m\u001b[1;35mName  \u001b[0m\u001b[1;35m \u001b[0m┃\u001b[1;35m \u001b[0m\u001b[1;35mType      \u001b[0m\u001b[1;35m \u001b[0m┃\u001b[1;35m \u001b[0m\u001b[1;35mParams\u001b[0m\u001b[1;35m \u001b[0m┃\n",
       "┡━━━╇━━━━━━━━╇━━━━━━━━━━━━╇━━━━━━━━┩\n",
       "│\u001b[2m \u001b[0m\u001b[2m0\u001b[0m\u001b[2m \u001b[0m│ layers │ ModuleList │     25 │\n",
       "└───┴────────┴────────────┴────────┘\n"
      ]
     },
     "metadata": {},
     "output_type": "display_data"
    },
    {
     "data": {
      "text/html": [
       "<pre style=\"white-space:pre;overflow-x:auto;line-height:normal;font-family:Menlo,'DejaVu Sans Mono',consolas,'Courier New',monospace\"><span style=\"font-weight: bold\">Trainable params</span>: 25                                                                         \n",
       "<span style=\"font-weight: bold\">Non-trainable params</span>: 0                                                                      \n",
       "<span style=\"font-weight: bold\">Total params</span>: 25                                                                             \n",
       "<span style=\"font-weight: bold\">Total estimated model params size (MB)</span>: 0                                                    \n",
       "</pre>\n"
      ],
      "text/plain": [
       "\u001b[1mTrainable params\u001b[0m: 25                                                                         \n",
       "\u001b[1mNon-trainable params\u001b[0m: 0                                                                      \n",
       "\u001b[1mTotal params\u001b[0m: 25                                                                             \n",
       "\u001b[1mTotal estimated model params size (MB)\u001b[0m: 0                                                    \n"
      ]
     },
     "metadata": {},
     "output_type": "display_data"
    },
    {
     "data": {
      "application/vnd.jupyter.widget-view+json": {
       "model_id": "b70d70b3f289461d8b5c2edaf28d3e28",
       "version_major": 2,
       "version_minor": 0
      },
      "text/plain": [
       "Output()"
      ]
     },
     "metadata": {},
     "output_type": "display_data"
    },
    {
     "data": {
      "text/html": [
       "<pre style=\"white-space:pre;overflow-x:auto;line-height:normal;font-family:Menlo,'DejaVu Sans Mono',consolas,'Courier New',monospace\"></pre>\n"
      ],
      "text/plain": []
     },
     "metadata": {},
     "output_type": "display_data"
    },
    {
     "data": {
      "text/html": [
       "<pre style=\"white-space:pre;overflow-x:auto;line-height:normal;font-family:Menlo,'DejaVu Sans Mono',consolas,'Courier New',monospace\">\n",
       "</pre>\n"
      ],
      "text/plain": [
       "\n"
      ]
     },
     "metadata": {},
     "output_type": "display_data"
    },
    {
     "data": {
      "application/vnd.jupyter.widget-view+json": {
       "model_id": "1730e890fc77453d8b7255d43ec789b4",
       "version_major": 2,
       "version_minor": 0
      },
      "text/plain": [
       "Output()"
      ]
     },
     "metadata": {},
     "output_type": "display_data"
    },
    {
     "data": {
      "text/html": [
       "<pre style=\"white-space:pre;overflow-x:auto;line-height:normal;font-family:Menlo,'DejaVu Sans Mono',consolas,'Courier New',monospace\">┏━━━━━━━━━━━━━━━━━━━━━━━━━━━┳━━━━━━━━━━━━━━━━━━━━━━━━━━━┓\n",
       "┃<span style=\"font-weight: bold\">      Validate metric      </span>┃<span style=\"font-weight: bold\">       DataLoader 0        </span>┃\n",
       "┡━━━━━━━━━━━━━━━━━━━━━━━━━━━╇━━━━━━━━━━━━━━━━━━━━━━━━━━━┩\n",
       "│<span style=\"color: #008080; text-decoration-color: #008080\">            acc            </span>│<span style=\"color: #800080; text-decoration-color: #800080\">    0.9879988431930542     </span>│\n",
       "│<span style=\"color: #008080; text-decoration-color: #008080\">            ess            </span>│<span style=\"color: #800080; text-decoration-color: #800080\">    0.9996282458305359     </span>│\n",
       "│<span style=\"color: #008080; text-decoration-color: #008080\">            kl             </span>│<span style=\"color: #800080; text-decoration-color: #800080\">    -8.834809303283691     </span>│\n",
       "│<span style=\"color: #008080; text-decoration-color: #008080\">           r_max           </span>│<span style=\"color: #800080; text-decoration-color: #800080\">            2.0            </span>│\n",
       "│<span style=\"color: #008080; text-decoration-color: #008080\">            tau            </span>│<span style=\"color: #800080; text-decoration-color: #800080\">     0.512401282787323     </span>│\n",
       "└───────────────────────────┴───────────────────────────┘\n",
       "</pre>\n"
      ],
      "text/plain": [
       "┏━━━━━━━━━━━━━━━━━━━━━━━━━━━┳━━━━━━━━━━━━━━━━━━━━━━━━━━━┓\n",
       "┃\u001b[1m \u001b[0m\u001b[1m     Validate metric     \u001b[0m\u001b[1m \u001b[0m┃\u001b[1m \u001b[0m\u001b[1m      DataLoader 0       \u001b[0m\u001b[1m \u001b[0m┃\n",
       "┡━━━━━━━━━━━━━━━━━━━━━━━━━━━╇━━━━━━━━━━━━━━━━━━━━━━━━━━━┩\n",
       "│\u001b[36m \u001b[0m\u001b[36m           acc           \u001b[0m\u001b[36m \u001b[0m│\u001b[35m \u001b[0m\u001b[35m   0.9879988431930542    \u001b[0m\u001b[35m \u001b[0m│\n",
       "│\u001b[36m \u001b[0m\u001b[36m           ess           \u001b[0m\u001b[36m \u001b[0m│\u001b[35m \u001b[0m\u001b[35m   0.9996282458305359    \u001b[0m\u001b[35m \u001b[0m│\n",
       "│\u001b[36m \u001b[0m\u001b[36m           kl            \u001b[0m\u001b[36m \u001b[0m│\u001b[35m \u001b[0m\u001b[35m   -8.834809303283691    \u001b[0m\u001b[35m \u001b[0m│\n",
       "│\u001b[36m \u001b[0m\u001b[36m          r_max          \u001b[0m\u001b[36m \u001b[0m│\u001b[35m \u001b[0m\u001b[35m           2.0           \u001b[0m\u001b[35m \u001b[0m│\n",
       "│\u001b[36m \u001b[0m\u001b[36m           tau           \u001b[0m\u001b[36m \u001b[0m│\u001b[35m \u001b[0m\u001b[35m    0.512401282787323    \u001b[0m\u001b[35m \u001b[0m│\n",
       "└───────────────────────────┴───────────────────────────┘\n"
      ]
     },
     "metadata": {},
     "output_type": "display_data"
    },
    {
     "data": {
      "text/html": [
       "<pre style=\"white-space:pre;overflow-x:auto;line-height:normal;font-family:Menlo,'DejaVu Sans Mono',consolas,'Courier New',monospace\"></pre>\n"
      ],
      "text/plain": []
     },
     "metadata": {},
     "output_type": "display_data"
    },
    {
     "data": {
      "text/html": [
       "<pre style=\"white-space:pre;overflow-x:auto;line-height:normal;font-family:Menlo,'DejaVu Sans Mono',consolas,'Courier New',monospace\">\n",
       "</pre>\n"
      ],
      "text/plain": [
       "\n"
      ]
     },
     "metadata": {},
     "output_type": "display_data"
    },
    {
     "data": {
      "image/png": "[encoded data removed]",
      "text/plain": [
       "<Figure size 432x288 with 2 Axes>"
      ]
     },
     "metadata": {
      "needs_background": "light"
     },
     "output_type": "display_data"
    },
    {
     "data": {
      "image/png": "[encoded data removed]",
      "text/plain": [
       "<Figure size 432x288 with 2 Axes>"
      ]
     },
     "metadata": {
      "needs_background": "light"
     },
     "output_type": "display_data"
    },
    {
     "data": {
      "image/png": "[encoded data removed]",
      "text/plain": [
       "<Figure size 432x288 with 2 Axes>"
      ]
     },
     "metadata": {
      "needs_background": "light"
     },
     "output_type": "display_data"
    },
    {
     "data": {
      "image/png": "[encoded data removed]",
      "text/plain": [
       "<Figure size 432x288 with 2 Axes>"
      ]
     },
     "metadata": {
      "needs_background": "light"
     },
     "output_type": "display_data"
    }
   ],
   "source": [
    "L = 6\n",
    "M_SQ = (4 / L) ** 2\n",
    "BATCH_SIZE = 4000\n",
    "N_STEPS = 1000\n",
    "\n",
    "kernel = torch.empty(5, 5).uniform_()\n",
    "target = FreeTheoryTarget(M_SQ)\n",
    "layers = [ConvLayer(kernel)]\n",
    "model = Model(layers, target, BATCH_SIZE, L)\n",
    "model.layers[0].visualise()\n",
    "\n",
    "trainer = pl.Trainer(\n",
    "    gpus=1,\n",
    "    max_steps=N_STEPS,  # total number of training steps\n",
    "    val_check_interval=10000,  # how often to run sampling\n",
    "    limit_val_batches=1,  # one batch for each val step\n",
    "    callbacks=[RichProgressBar()],\n",
    "    enable_checkpointing=False,  # manually saving checkpoints\n",
    "    num_sanity_val_steps=0,  # don't try to validate before training\n",
    ")\n",
    "\n",
    "\n",
    "trainer.fit(model)\n",
    "_ = trainer.validate(model)\n",
    "\n",
    "outputs = model.step_forward()\n",
    "phi, log_prob = next(outputs)  # prior\n",
    "convnet_phi4.plot.heatmap_correlator(phi)\n",
    "for layer, (phi, log_prob) in zip(model.layers, outputs):\n",
    "    layer.visualise()\n",
    "    convnet_phi4.plot.heatmap_correlator(phi)\n",
    "\n",
    "plt.show()"
   ]
  },
  {
   "cell_type": "code",
   "execution_count": 27,
   "id": "2291256b-5d56-4ccb-aa7b-e4ce7fff1093",
   "metadata": {},
   "outputs": [
    {
     "data": {
      "text/html": [
       "<pre style=\"white-space:pre;overflow-x:auto;line-height:normal;font-family:Menlo,'DejaVu Sans Mono',consolas,'Courier New',monospace\">┏━━━┳━━━━━━━━┳━━━━━━━━━━━━┳━━━━━━━━┓\n",
       "┃<span style=\"color: #800080; text-decoration-color: #800080; font-weight: bold\">   </span>┃<span style=\"color: #800080; text-decoration-color: #800080; font-weight: bold\"> Name   </span>┃<span style=\"color: #800080; text-decoration-color: #800080; font-weight: bold\"> Type       </span>┃<span style=\"color: #800080; text-decoration-color: #800080; font-weight: bold\"> Params </span>┃\n",
       "┡━━━╇━━━━━━━━╇━━━━━━━━━━━━╇━━━━━━━━┩\n",
       "│<span style=\"color: #7f7f7f; text-decoration-color: #7f7f7f\"> 0 </span>│ layers │ ModuleList │    361 │\n",
       "└───┴────────┴────────────┴────────┘\n",
       "</pre>\n"
      ],
      "text/plain": [
       "┏━━━┳━━━━━━━━┳━━━━━━━━━━━━┳━━━━━━━━┓\n",
       "┃\u001b[1;35m \u001b[0m\u001b[1;35m \u001b[0m\u001b[1;35m \u001b[0m┃\u001b[1;35m \u001b[0m\u001b[1;35mName  \u001b[0m\u001b[1;35m \u001b[0m┃\u001b[1;35m \u001b[0m\u001b[1;35mType      \u001b[0m\u001b[1;35m \u001b[0m┃\u001b[1;35m \u001b[0m\u001b[1;35mParams\u001b[0m\u001b[1;35m \u001b[0m┃\n",
       "┡━━━╇━━━━━━━━╇━━━━━━━━━━━━╇━━━━━━━━┩\n",
       "│\u001b[2m \u001b[0m\u001b[2m0\u001b[0m\u001b[2m \u001b[0m│ layers │ ModuleList │    361 │\n",
       "└───┴────────┴────────────┴────────┘\n"
      ]
     },
     "metadata": {},
     "output_type": "display_data"
    },
    {
     "data": {
      "text/html": [
       "<pre style=\"white-space:pre;overflow-x:auto;line-height:normal;font-family:Menlo,'DejaVu Sans Mono',consolas,'Courier New',monospace\"><span style=\"font-weight: bold\">Trainable params</span>: 361                                                                        \n",
       "<span style=\"font-weight: bold\">Non-trainable params</span>: 0                                                                      \n",
       "<span style=\"font-weight: bold\">Total params</span>: 361                                                                            \n",
       "<span style=\"font-weight: bold\">Total estimated model params size (MB)</span>: 0                                                    \n",
       "</pre>\n"
      ],
      "text/plain": [
       "\u001b[1mTrainable params\u001b[0m: 361                                                                        \n",
       "\u001b[1mNon-trainable params\u001b[0m: 0                                                                      \n",
       "\u001b[1mTotal params\u001b[0m: 361                                                                            \n",
       "\u001b[1mTotal estimated model params size (MB)\u001b[0m: 0                                                    \n"
      ]
     },
     "metadata": {},
     "output_type": "display_data"
    },
    {
     "data": {
      "application/vnd.jupyter.widget-view+json": {
       "model_id": "62ce3114c9f446a6bd55d27aef5c467d",
       "version_major": 2,
       "version_minor": 0
      },
      "text/plain": [
       "Output()"
      ]
     },
     "metadata": {},
     "output_type": "display_data"
    },
    {
     "data": {
      "text/html": [
       "<pre style=\"white-space:pre;overflow-x:auto;line-height:normal;font-family:Menlo,'DejaVu Sans Mono',consolas,'Courier New',monospace\"></pre>\n"
      ],
      "text/plain": []
     },
     "metadata": {},
     "output_type": "display_data"
    },
    {
     "data": {
      "text/html": [
       "<pre style=\"white-space:pre;overflow-x:auto;line-height:normal;font-family:Menlo,'DejaVu Sans Mono',consolas,'Courier New',monospace\">\n",
       "</pre>\n"
      ],
      "text/plain": [
       "\n"
      ]
     },
     "metadata": {},
     "output_type": "display_data"
    },
    {
     "data": {
      "application/vnd.jupyter.widget-view+json": {
       "model_id": "7c760a341ddc496393e986dcb8e0360f",
       "version_major": 2,
       "version_minor": 0
      },
      "text/plain": [
       "Output()"
      ]
     },
     "metadata": {},
     "output_type": "display_data"
    },
    {
     "data": {
      "text/html": [
       "<pre style=\"white-space:pre;overflow-x:auto;line-height:normal;font-family:Menlo,'DejaVu Sans Mono',consolas,'Courier New',monospace\">┏━━━━━━━━━━━━━━━━━━━━━━━━━━━┳━━━━━━━━━━━━━━━━━━━━━━━━━━━┓\n",
       "┃<span style=\"font-weight: bold\">      Validate metric      </span>┃<span style=\"font-weight: bold\">       DataLoader 0        </span>┃\n",
       "┡━━━━━━━━━━━━━━━━━━━━━━━━━━━╇━━━━━━━━━━━━━━━━━━━━━━━━━━━┩\n",
       "│<span style=\"color: #008080; text-decoration-color: #008080\">            acc            </span>│<span style=\"color: #800080; text-decoration-color: #800080\">    0.9840984344482422     </span>│\n",
       "│<span style=\"color: #008080; text-decoration-color: #008080\">            ess            </span>│<span style=\"color: #800080; text-decoration-color: #800080\">    0.9990106225013733     </span>│\n",
       "│<span style=\"color: #008080; text-decoration-color: #008080\">            kl             </span>│<span style=\"color: #800080; text-decoration-color: #800080\">    -129.4799346923828     </span>│\n",
       "│<span style=\"color: #008080; text-decoration-color: #008080\">           r_max           </span>│<span style=\"color: #800080; text-decoration-color: #800080\">            2.0            </span>│\n",
       "│<span style=\"color: #008080; text-decoration-color: #008080\">            tau            </span>│<span style=\"color: #800080; text-decoration-color: #800080\">    0.5165017247200012     </span>│\n",
       "└───────────────────────────┴───────────────────────────┘\n",
       "</pre>\n"
      ],
      "text/plain": [
       "┏━━━━━━━━━━━━━━━━━━━━━━━━━━━┳━━━━━━━━━━━━━━━━━━━━━━━━━━━┓\n",
       "┃\u001b[1m \u001b[0m\u001b[1m     Validate metric     \u001b[0m\u001b[1m \u001b[0m┃\u001b[1m \u001b[0m\u001b[1m      DataLoader 0       \u001b[0m\u001b[1m \u001b[0m┃\n",
       "┡━━━━━━━━━━━━━━━━━━━━━━━━━━━╇━━━━━━━━━━━━━━━━━━━━━━━━━━━┩\n",
       "│\u001b[36m \u001b[0m\u001b[36m           acc           \u001b[0m\u001b[36m \u001b[0m│\u001b[35m \u001b[0m\u001b[35m   0.9840984344482422    \u001b[0m\u001b[35m \u001b[0m│\n",
       "│\u001b[36m \u001b[0m\u001b[36m           ess           \u001b[0m\u001b[36m \u001b[0m│\u001b[35m \u001b[0m\u001b[35m   0.9990106225013733    \u001b[0m\u001b[35m \u001b[0m│\n",
       "│\u001b[36m \u001b[0m\u001b[36m           kl            \u001b[0m\u001b[36m \u001b[0m│\u001b[35m \u001b[0m\u001b[35m   -129.4799346923828    \u001b[0m\u001b[35m \u001b[0m│\n",
       "│\u001b[36m \u001b[0m\u001b[36m          r_max          \u001b[0m\u001b[36m \u001b[0m│\u001b[35m \u001b[0m\u001b[35m           2.0           \u001b[0m\u001b[35m \u001b[0m│\n",
       "│\u001b[36m \u001b[0m\u001b[36m           tau           \u001b[0m\u001b[36m \u001b[0m│\u001b[35m \u001b[0m\u001b[35m   0.5165017247200012    \u001b[0m\u001b[35m \u001b[0m│\n",
       "└───────────────────────────┴───────────────────────────┘\n"
      ]
     },
     "metadata": {},
     "output_type": "display_data"
    },
    {
     "data": {
      "text/html": [
       "<pre style=\"white-space:pre;overflow-x:auto;line-height:normal;font-family:Menlo,'DejaVu Sans Mono',consolas,'Courier New',monospace\"></pre>\n"
      ],
      "text/plain": []
     },
     "metadata": {},
     "output_type": "display_data"
    },
    {
     "data": {
      "text/html": [
       "<pre style=\"white-space:pre;overflow-x:auto;line-height:normal;font-family:Menlo,'DejaVu Sans Mono',consolas,'Courier New',monospace\">\n",
       "</pre>\n"
      ],
      "text/plain": [
       "\n"
      ]
     },
     "metadata": {},
     "output_type": "display_data"
    },
    {
     "data": {
      "image/png": "[encoded data removed]",
      "text/plain": [
       "<Figure size 432x288 with 2 Axes>"
      ]
     },
     "metadata": {
      "needs_background": "light"
     },
     "output_type": "display_data"
    },
    {
     "data": {
      "image/png": "[encoded data removed]",
      "text/plain": [
       "<Figure size 432x288 with 2 Axes>"
      ]
     },
     "metadata": {
      "needs_background": "light"
     },
     "output_type": "display_data"
    },
    {
     "data": {
      "image/png": "[encoded data removed]",
      "text/plain": [
       "<Figure size 432x288 with 2 Axes>"
      ]
     },
     "metadata": {
      "needs_background": "light"
     },
     "output_type": "display_data"
    }
   ],
   "source": [
    "L = 20\n",
    "M_SQ = (4 / L) ** 2\n",
    "BATCH_SIZE = 4000\n",
    "N_STEPS = 1000\n",
    "\n",
    "kernel = torch.empty(19, 19).uniform_().div(10)\n",
    "target = FreeTheoryTarget(M_SQ)\n",
    "layers = [ConvLayer(kernel)]\n",
    "model = Model(layers, target, BATCH_SIZE, L)\n",
    "\n",
    "trainer = pl.Trainer(\n",
    "    gpus=1,\n",
    "    max_steps=N_STEPS,  # total number of training steps\n",
    "    val_check_interval=10000,  # how often to run sampling\n",
    "    limit_val_batches=1,  # one batch for each val step\n",
    "    callbacks=[RichProgressBar()],\n",
    "    enable_checkpointing=False,  # manually saving checkpoints\n",
    "    num_sanity_val_steps=0,  # don't try to validate before training\n",
    ")\n",
    "\n",
    "trainer.fit(model)\n",
    "_ = trainer.validate(model)\n",
    "\n",
    "outputs = model.step_forward()\n",
    "phi, log_prob = next(outputs)  # prior\n",
    "convnet_phi4.plot.heatmap_correlator(phi)\n",
    "for layer, (phi, log_prob) in zip(model.layers, outputs):\n",
    "    layer.visualise()\n",
    "    convnet_phi4.plot.heatmap_correlator(phi)\n",
    "\n",
    "plt.show()"
   ]
  },
  {
   "cell_type": "markdown",
   "id": "9ff7bc95-61da-4cc5-b4bb-c9efac9a145a",
   "metadata": {},
   "source": [
    "## Initialisation dependence"
   ]
  },
  {
   "cell_type": "code",
   "execution_count": 7,
   "id": "2479f670-0a8b-4691-a0bd-7f2b0be1d10a",
   "metadata": {},
   "outputs": [
    {
     "name": "stdout",
     "output_type": "stream",
     "text": [
      "4\n",
      "6\n",
      "8\n",
      "10\n",
      "12\n"
     ]
    }
   ],
   "source": [
    "BATCH_SIZE = 4000\n",
    "N_STEPS = 1000\n",
    "\n",
    "import logging\n",
    "\n",
    "logging.getLogger(\"pytorch_lightning\").setLevel(logging.WARNING)\n",
    "\n",
    "results = []\n",
    "\n",
    "for L in [4, 6, 8, 10, 12]:\n",
    "    print(L)\n",
    "\n",
    "    M_SQ = (4 / L) ** 2\n",
    "    target = FreeTheoryTarget(M_SQ)\n",
    "\n",
    "    for _ in range(20):\n",
    "        trainer = pl.Trainer(\n",
    "            gpus=1,\n",
    "            max_steps=N_STEPS,\n",
    "            val_check_interval=10000,\n",
    "            limit_val_batches=1,\n",
    "            enable_checkpointing=False,\n",
    "            enable_progress_bar=False,\n",
    "            num_sanity_val_steps=0,\n",
    "            enable_model_summary=False,\n",
    "        )\n",
    "        kernel = torch.empty(L - 1, L - 1).uniform_()\n",
    "        layers = [ConvLayer(kernel)]\n",
    "        model = Model(layers, target, BATCH_SIZE, L)\n",
    "\n",
    "        trainer.fit(model)\n",
    "        (metrics,) = trainer.validate(model, verbose=False)\n",
    "        metrics[\"L\"] = L\n",
    "\n",
    "        results.append(metrics)"
   ]
  },
  {
   "cell_type": "code",
   "execution_count": 16,
   "id": "a42b70bf-9299-4d68-87cc-ec059630e44b",
   "metadata": {},
   "outputs": [
    {
     "data": {
      "text/plain": [
       "array([[<AxesSubplot:title={'center':'4'}>,\n",
       "        <AxesSubplot:title={'center':'6'}>],\n",
       "       [<AxesSubplot:title={'center':'8'}>,\n",
       "        <AxesSubplot:title={'center':'10'}>],\n",
       "       [<AxesSubplot:title={'center':'12'}>, <AxesSubplot:>]],\n",
       "      dtype=object)"
      ]
     },
     "execution_count": 16,
     "metadata": {},
     "output_type": "execute_result"
    },
    {
     "data": {
      "image/png": "[encoded data removed]",
      "text/plain": [
       "<Figure size 432x288 with 6 Axes>"
      ]
     },
     "metadata": {
      "needs_background": "light"
     },
     "output_type": "display_data"
    }
   ],
   "source": [
    "import numpy as np\n",
    "\n",
    "df_list = []\n",
    "for L, res in results.items():\n",
    "    df = pd.DataFrame(res)\n",
    "    df[\"L\"] = L\n",
    "    df_list.append(df)\n",
    "\n",
    "df = pd.concat(df_list)\n",
    "df.hist(\"acc\", by=\"L\", sharex=True, bins=np.linspace(0, 1, 10))"
   ]
  },
  {
   "cell_type": "markdown",
   "id": "6bf64831-d53a-4dbc-85d7-2327795e273e",
   "metadata": {},
   "source": [
    "## Kernel size dependence"
   ]
  },
  {
   "cell_type": "code",
   "execution_count": 30,
   "id": "a96ead76-ddb2-4768-91f5-15464e5d05b6",
   "metadata": {},
   "outputs": [
    {
     "name": "stdout",
     "output_type": "stream",
     "text": [
      "3\n"
     ]
    },
    {
     "data": {
      "text/html": [
       "<pre style=\"white-space:pre;overflow-x:auto;line-height:normal;font-family:Menlo,'DejaVu Sans Mono',consolas,'Courier New',monospace\">┏━━━━━━━━━━━━━━━━━━━━━━━━━━━┳━━━━━━━━━━━━━━━━━━━━━━━━━━━┓\n",
       "┃<span style=\"font-weight: bold\">      Validate metric      </span>┃<span style=\"font-weight: bold\">       DataLoader 0        </span>┃\n",
       "┡━━━━━━━━━━━━━━━━━━━━━━━━━━━╇━━━━━━━━━━━━━━━━━━━━━━━━━━━┩\n",
       "│<span style=\"color: #008080; text-decoration-color: #008080\">            acc            </span>│<span style=\"color: #800080; text-decoration-color: #800080\">   0.0013001300394535065   </span>│\n",
       "│<span style=\"color: #008080; text-decoration-color: #008080\">            ess            </span>│<span style=\"color: #800080; text-decoration-color: #800080\">  0.00015926157357171178   </span>│\n",
       "│<span style=\"color: #008080; text-decoration-color: #008080\">            kl             </span>│<span style=\"color: #800080; text-decoration-color: #800080\">     -86.0988998413086     </span>│\n",
       "│<span style=\"color: #008080; text-decoration-color: #008080\">           r_max           </span>│<span style=\"color: #800080; text-decoration-color: #800080\">          4621.0           </span>│\n",
       "│<span style=\"color: #008080; text-decoration-color: #008080\">            tau            </span>│<span style=\"color: #800080; text-decoration-color: #800080\">    1684.4752197265625     </span>│\n",
       "└───────────────────────────┴───────────────────────────┘\n",
       "</pre>\n"
      ],
      "text/plain": [
       "┏━━━━━━━━━━━━━━━━━━━━━━━━━━━┳━━━━━━━━━━━━━━━━━━━━━━━━━━━┓\n",
       "┃\u001b[1m \u001b[0m\u001b[1m     Validate metric     \u001b[0m\u001b[1m \u001b[0m┃\u001b[1m \u001b[0m\u001b[1m      DataLoader 0       \u001b[0m\u001b[1m \u001b[0m┃\n",
       "┡━━━━━━━━━━━━━━━━━━━━━━━━━━━╇━━━━━━━━━━━━━━━━━━━━━━━━━━━┩\n",
       "│\u001b[36m \u001b[0m\u001b[36m           acc           \u001b[0m\u001b[36m \u001b[0m│\u001b[35m \u001b[0m\u001b[35m  0.0013001300394535065  \u001b[0m\u001b[35m \u001b[0m│\n",
       "│\u001b[36m \u001b[0m\u001b[36m           ess           \u001b[0m\u001b[36m \u001b[0m│\u001b[35m \u001b[0m\u001b[35m 0.00015926157357171178  \u001b[0m\u001b[35m \u001b[0m│\n",
       "│\u001b[36m \u001b[0m\u001b[36m           kl            \u001b[0m\u001b[36m \u001b[0m│\u001b[35m \u001b[0m\u001b[35m    -86.0988998413086    \u001b[0m\u001b[35m \u001b[0m│\n",
       "│\u001b[36m \u001b[0m\u001b[36m          r_max          \u001b[0m\u001b[36m \u001b[0m│\u001b[35m \u001b[0m\u001b[35m         4621.0          \u001b[0m\u001b[35m \u001b[0m│\n",
       "│\u001b[36m \u001b[0m\u001b[36m           tau           \u001b[0m\u001b[36m \u001b[0m│\u001b[35m \u001b[0m\u001b[35m   1684.4752197265625    \u001b[0m\u001b[35m \u001b[0m│\n",
       "└───────────────────────────┴───────────────────────────┘\n"
      ]
     },
     "metadata": {},
     "output_type": "display_data"
    },
    {
     "name": "stdout",
     "output_type": "stream",
     "text": [
      "5\n"
     ]
    },
    {
     "data": {
      "text/html": [
       "<pre style=\"white-space:pre;overflow-x:auto;line-height:normal;font-family:Menlo,'DejaVu Sans Mono',consolas,'Courier New',monospace\">┏━━━━━━━━━━━━━━━━━━━━━━━━━━━┳━━━━━━━━━━━━━━━━━━━━━━━━━━━┓\n",
       "┃<span style=\"font-weight: bold\">      Validate metric      </span>┃<span style=\"font-weight: bold\">       DataLoader 0        </span>┃\n",
       "┡━━━━━━━━━━━━━━━━━━━━━━━━━━━╇━━━━━━━━━━━━━━━━━━━━━━━━━━━┩\n",
       "│<span style=\"color: #008080; text-decoration-color: #008080\">            acc            </span>│<span style=\"color: #800080; text-decoration-color: #800080\">   0.0028002799954265356   </span>│\n",
       "│<span style=\"color: #008080; text-decoration-color: #008080\">            ess            </span>│<span style=\"color: #800080; text-decoration-color: #800080\">   0.0001966798008652404   </span>│\n",
       "│<span style=\"color: #008080; text-decoration-color: #008080\">            kl             </span>│<span style=\"color: #800080; text-decoration-color: #800080\">    -102.8049087524414     </span>│\n",
       "│<span style=\"color: #008080; text-decoration-color: #008080\">           r_max           </span>│<span style=\"color: #800080; text-decoration-color: #800080\">          2839.0           </span>│\n",
       "│<span style=\"color: #008080; text-decoration-color: #008080\">            tau            </span>│<span style=\"color: #800080; text-decoration-color: #800080\">     947.3538208007812     </span>│\n",
       "└───────────────────────────┴───────────────────────────┘\n",
       "</pre>\n"
      ],
      "text/plain": [
       "┏━━━━━━━━━━━━━━━━━━━━━━━━━━━┳━━━━━━━━━━━━━━━━━━━━━━━━━━━┓\n",
       "┃\u001b[1m \u001b[0m\u001b[1m     Validate metric     \u001b[0m\u001b[1m \u001b[0m┃\u001b[1m \u001b[0m\u001b[1m      DataLoader 0       \u001b[0m\u001b[1m \u001b[0m┃\n",
       "┡━━━━━━━━━━━━━━━━━━━━━━━━━━━╇━━━━━━━━━━━━━━━━━━━━━━━━━━━┩\n",
       "│\u001b[36m \u001b[0m\u001b[36m           acc           \u001b[0m\u001b[36m \u001b[0m│\u001b[35m \u001b[0m\u001b[35m  0.0028002799954265356  \u001b[0m\u001b[35m \u001b[0m│\n",
       "│\u001b[36m \u001b[0m\u001b[36m           ess           \u001b[0m\u001b[36m \u001b[0m│\u001b[35m \u001b[0m\u001b[35m  0.0001966798008652404  \u001b[0m\u001b[35m \u001b[0m│\n",
       "│\u001b[36m \u001b[0m\u001b[36m           kl            \u001b[0m\u001b[36m \u001b[0m│\u001b[35m \u001b[0m\u001b[35m   -102.8049087524414    \u001b[0m\u001b[35m \u001b[0m│\n",
       "│\u001b[36m \u001b[0m\u001b[36m          r_max          \u001b[0m\u001b[36m \u001b[0m│\u001b[35m \u001b[0m\u001b[35m         2839.0          \u001b[0m\u001b[35m \u001b[0m│\n",
       "│\u001b[36m \u001b[0m\u001b[36m           tau           \u001b[0m\u001b[36m \u001b[0m│\u001b[35m \u001b[0m\u001b[35m    947.3538208007812    \u001b[0m\u001b[35m \u001b[0m│\n",
       "└───────────────────────────┴───────────────────────────┘\n"
      ]
     },
     "metadata": {},
     "output_type": "display_data"
    },
    {
     "name": "stdout",
     "output_type": "stream",
     "text": [
      "7\n"
     ]
    },
    {
     "data": {
      "text/html": [
       "<pre style=\"white-space:pre;overflow-x:auto;line-height:normal;font-family:Menlo,'DejaVu Sans Mono',consolas,'Courier New',monospace\">┏━━━━━━━━━━━━━━━━━━━━━━━━━━━┳━━━━━━━━━━━━━━━━━━━━━━━━━━━┓\n",
       "┃<span style=\"font-weight: bold\">      Validate metric      </span>┃<span style=\"font-weight: bold\">       DataLoader 0        </span>┃\n",
       "┡━━━━━━━━━━━━━━━━━━━━━━━━━━━╇━━━━━━━━━━━━━━━━━━━━━━━━━━━┩\n",
       "│<span style=\"color: #008080; text-decoration-color: #008080\">            acc            </span>│<span style=\"color: #800080; text-decoration-color: #800080\">   0.004100410267710686    </span>│\n",
       "│<span style=\"color: #008080; text-decoration-color: #008080\">            ess            </span>│<span style=\"color: #800080; text-decoration-color: #800080\">  0.00038336258148774505   </span>│\n",
       "│<span style=\"color: #008080; text-decoration-color: #008080\">            kl             </span>│<span style=\"color: #800080; text-decoration-color: #800080\">    -115.20179748535156    </span>│\n",
       "│<span style=\"color: #008080; text-decoration-color: #008080\">           r_max           </span>│<span style=\"color: #800080; text-decoration-color: #800080\">          3429.0           </span>│\n",
       "│<span style=\"color: #008080; text-decoration-color: #008080\">            tau            </span>│<span style=\"color: #800080; text-decoration-color: #800080\">     968.6862182617188     </span>│\n",
       "└───────────────────────────┴───────────────────────────┘\n",
       "</pre>\n"
      ],
      "text/plain": [
       "┏━━━━━━━━━━━━━━━━━━━━━━━━━━━┳━━━━━━━━━━━━━━━━━━━━━━━━━━━┓\n",
       "┃\u001b[1m \u001b[0m\u001b[1m     Validate metric     \u001b[0m\u001b[1m \u001b[0m┃\u001b[1m \u001b[0m\u001b[1m      DataLoader 0       \u001b[0m\u001b[1m \u001b[0m┃\n",
       "┡━━━━━━━━━━━━━━━━━━━━━━━━━━━╇━━━━━━━━━━━━━━━━━━━━━━━━━━━┩\n",
       "│\u001b[36m \u001b[0m\u001b[36m           acc           \u001b[0m\u001b[36m \u001b[0m│\u001b[35m \u001b[0m\u001b[35m  0.004100410267710686   \u001b[0m\u001b[35m \u001b[0m│\n",
       "│\u001b[36m \u001b[0m\u001b[36m           ess           \u001b[0m\u001b[36m \u001b[0m│\u001b[35m \u001b[0m\u001b[35m 0.00038336258148774505  \u001b[0m\u001b[35m \u001b[0m│\n",
       "│\u001b[36m \u001b[0m\u001b[36m           kl            \u001b[0m\u001b[36m \u001b[0m│\u001b[35m \u001b[0m\u001b[35m   -115.20179748535156   \u001b[0m\u001b[35m \u001b[0m│\n",
       "│\u001b[36m \u001b[0m\u001b[36m          r_max          \u001b[0m\u001b[36m \u001b[0m│\u001b[35m \u001b[0m\u001b[35m         3429.0          \u001b[0m\u001b[35m \u001b[0m│\n",
       "│\u001b[36m \u001b[0m\u001b[36m           tau           \u001b[0m\u001b[36m \u001b[0m│\u001b[35m \u001b[0m\u001b[35m    968.6862182617188    \u001b[0m\u001b[35m \u001b[0m│\n",
       "└───────────────────────────┴───────────────────────────┘\n"
      ]
     },
     "metadata": {},
     "output_type": "display_data"
    },
    {
     "name": "stdout",
     "output_type": "stream",
     "text": [
      "9\n"
     ]
    },
    {
     "data": {
      "text/html": [
       "<pre style=\"white-space:pre;overflow-x:auto;line-height:normal;font-family:Menlo,'DejaVu Sans Mono',consolas,'Courier New',monospace\">┏━━━━━━━━━━━━━━━━━━━━━━━━━━━┳━━━━━━━━━━━━━━━━━━━━━━━━━━━┓\n",
       "┃<span style=\"font-weight: bold\">      Validate metric      </span>┃<span style=\"font-weight: bold\">       DataLoader 0        </span>┃\n",
       "┡━━━━━━━━━━━━━━━━━━━━━━━━━━━╇━━━━━━━━━━━━━━━━━━━━━━━━━━━┩\n",
       "│<span style=\"color: #008080; text-decoration-color: #008080\">            acc            </span>│<span style=\"color: #800080; text-decoration-color: #800080\">   0.002200220013037324    </span>│\n",
       "│<span style=\"color: #008080; text-decoration-color: #008080\">            ess            </span>│<span style=\"color: #800080; text-decoration-color: #800080\">   0.0004426096857059747   </span>│\n",
       "│<span style=\"color: #008080; text-decoration-color: #008080\">            kl             </span>│<span style=\"color: #800080; text-decoration-color: #800080\">    -116.44147491455078    </span>│\n",
       "│<span style=\"color: #008080; text-decoration-color: #008080\">           r_max           </span>│<span style=\"color: #800080; text-decoration-color: #800080\">          5866.0           </span>│\n",
       "│<span style=\"color: #008080; text-decoration-color: #008080\">            tau            </span>│<span style=\"color: #800080; text-decoration-color: #800080\">     2464.59716796875      </span>│\n",
       "└───────────────────────────┴───────────────────────────┘\n",
       "</pre>\n"
      ],
      "text/plain": [
       "┏━━━━━━━━━━━━━━━━━━━━━━━━━━━┳━━━━━━━━━━━━━━━━━━━━━━━━━━━┓\n",
       "┃\u001b[1m \u001b[0m\u001b[1m     Validate metric     \u001b[0m\u001b[1m \u001b[0m┃\u001b[1m \u001b[0m\u001b[1m      DataLoader 0       \u001b[0m\u001b[1m \u001b[0m┃\n",
       "┡━━━━━━━━━━━━━━━━━━━━━━━━━━━╇━━━━━━━━━━━━━━━━━━━━━━━━━━━┩\n",
       "│\u001b[36m \u001b[0m\u001b[36m           acc           \u001b[0m\u001b[36m \u001b[0m│\u001b[35m \u001b[0m\u001b[35m  0.002200220013037324   \u001b[0m\u001b[35m \u001b[0m│\n",
       "│\u001b[36m \u001b[0m\u001b[36m           ess           \u001b[0m\u001b[36m \u001b[0m│\u001b[35m \u001b[0m\u001b[35m  0.0004426096857059747  \u001b[0m\u001b[35m \u001b[0m│\n",
       "│\u001b[36m \u001b[0m\u001b[36m           kl            \u001b[0m\u001b[36m \u001b[0m│\u001b[35m \u001b[0m\u001b[35m   -116.44147491455078   \u001b[0m\u001b[35m \u001b[0m│\n",
       "│\u001b[36m \u001b[0m\u001b[36m          r_max          \u001b[0m\u001b[36m \u001b[0m│\u001b[35m \u001b[0m\u001b[35m         5866.0          \u001b[0m\u001b[35m \u001b[0m│\n",
       "│\u001b[36m \u001b[0m\u001b[36m           tau           \u001b[0m\u001b[36m \u001b[0m│\u001b[35m \u001b[0m\u001b[35m    2464.59716796875     \u001b[0m\u001b[35m \u001b[0m│\n",
       "└───────────────────────────┴───────────────────────────┘\n"
      ]
     },
     "metadata": {},
     "output_type": "display_data"
    },
    {
     "name": "stdout",
     "output_type": "stream",
     "text": [
      "11\n"
     ]
    },
    {
     "data": {
      "text/html": [
       "<pre style=\"white-space:pre;overflow-x:auto;line-height:normal;font-family:Menlo,'DejaVu Sans Mono',consolas,'Courier New',monospace\">┏━━━━━━━━━━━━━━━━━━━━━━━━━━━┳━━━━━━━━━━━━━━━━━━━━━━━━━━━┓\n",
       "┃<span style=\"font-weight: bold\">      Validate metric      </span>┃<span style=\"font-weight: bold\">       DataLoader 0        </span>┃\n",
       "┡━━━━━━━━━━━━━━━━━━━━━━━━━━━╇━━━━━━━━━━━━━━━━━━━━━━━━━━━┩\n",
       "│<span style=\"color: #008080; text-decoration-color: #008080\">            acc            </span>│<span style=\"color: #800080; text-decoration-color: #800080\">   0.022302230820059776    </span>│\n",
       "│<span style=\"color: #008080; text-decoration-color: #008080\">            ess            </span>│<span style=\"color: #800080; text-decoration-color: #800080\">   0.0009026500629261136   </span>│\n",
       "│<span style=\"color: #008080; text-decoration-color: #008080\">            kl             </span>│<span style=\"color: #800080; text-decoration-color: #800080\">    -122.89921569824219    </span>│\n",
       "│<span style=\"color: #008080; text-decoration-color: #008080\">           r_max           </span>│<span style=\"color: #800080; text-decoration-color: #800080\">          2159.0           </span>│\n",
       "│<span style=\"color: #008080; text-decoration-color: #008080\">            tau            </span>│<span style=\"color: #800080; text-decoration-color: #800080\">    460.86895751953125     </span>│\n",
       "└───────────────────────────┴───────────────────────────┘\n",
       "</pre>\n"
      ],
      "text/plain": [
       "┏━━━━━━━━━━━━━━━━━━━━━━━━━━━┳━━━━━━━━━━━━━━━━━━━━━━━━━━━┓\n",
       "┃\u001b[1m \u001b[0m\u001b[1m     Validate metric     \u001b[0m\u001b[1m \u001b[0m┃\u001b[1m \u001b[0m\u001b[1m      DataLoader 0       \u001b[0m\u001b[1m \u001b[0m┃\n",
       "┡━━━━━━━━━━━━━━━━━━━━━━━━━━━╇━━━━━━━━━━━━━━━━━━━━━━━━━━━┩\n",
       "│\u001b[36m \u001b[0m\u001b[36m           acc           \u001b[0m\u001b[36m \u001b[0m│\u001b[35m \u001b[0m\u001b[35m  0.022302230820059776   \u001b[0m\u001b[35m \u001b[0m│\n",
       "│\u001b[36m \u001b[0m\u001b[36m           ess           \u001b[0m\u001b[36m \u001b[0m│\u001b[35m \u001b[0m\u001b[35m  0.0009026500629261136  \u001b[0m\u001b[35m \u001b[0m│\n",
       "│\u001b[36m \u001b[0m\u001b[36m           kl            \u001b[0m\u001b[36m \u001b[0m│\u001b[35m \u001b[0m\u001b[35m   -122.89921569824219   \u001b[0m\u001b[35m \u001b[0m│\n",
       "│\u001b[36m \u001b[0m\u001b[36m          r_max          \u001b[0m\u001b[36m \u001b[0m│\u001b[35m \u001b[0m\u001b[35m         2159.0          \u001b[0m\u001b[35m \u001b[0m│\n",
       "│\u001b[36m \u001b[0m\u001b[36m           tau           \u001b[0m\u001b[36m \u001b[0m│\u001b[35m \u001b[0m\u001b[35m   460.86895751953125    \u001b[0m\u001b[35m \u001b[0m│\n",
       "└───────────────────────────┴───────────────────────────┘\n"
      ]
     },
     "metadata": {},
     "output_type": "display_data"
    },
    {
     "name": "stdout",
     "output_type": "stream",
     "text": [
      "13\n"
     ]
    },
    {
     "data": {
      "text/html": [
       "<pre style=\"white-space:pre;overflow-x:auto;line-height:normal;font-family:Menlo,'DejaVu Sans Mono',consolas,'Courier New',monospace\">┏━━━━━━━━━━━━━━━━━━━━━━━━━━━┳━━━━━━━━━━━━━━━━━━━━━━━━━━━┓\n",
       "┃<span style=\"font-weight: bold\">      Validate metric      </span>┃<span style=\"font-weight: bold\">       DataLoader 0        </span>┃\n",
       "┡━━━━━━━━━━━━━━━━━━━━━━━━━━━╇━━━━━━━━━━━━━━━━━━━━━━━━━━━┩\n",
       "│<span style=\"color: #008080; text-decoration-color: #008080\">            acc            </span>│<span style=\"color: #800080; text-decoration-color: #800080\">    0.4406440556049347     </span>│\n",
       "│<span style=\"color: #008080; text-decoration-color: #008080\">            ess            </span>│<span style=\"color: #800080; text-decoration-color: #800080\">     0.331617534160614     </span>│\n",
       "│<span style=\"color: #008080; text-decoration-color: #008080\">            kl             </span>│<span style=\"color: #800080; text-decoration-color: #800080\">    -128.8888397216797     </span>│\n",
       "│<span style=\"color: #008080; text-decoration-color: #008080\">           r_max           </span>│<span style=\"color: #800080; text-decoration-color: #800080\">           60.0            </span>│\n",
       "│<span style=\"color: #008080; text-decoration-color: #008080\">            tau            </span>│<span style=\"color: #800080; text-decoration-color: #800080\">    3.1770846843719482     </span>│\n",
       "└───────────────────────────┴───────────────────────────┘\n",
       "</pre>\n"
      ],
      "text/plain": [
       "┏━━━━━━━━━━━━━━━━━━━━━━━━━━━┳━━━━━━━━━━━━━━━━━━━━━━━━━━━┓\n",
       "┃\u001b[1m \u001b[0m\u001b[1m     Validate metric     \u001b[0m\u001b[1m \u001b[0m┃\u001b[1m \u001b[0m\u001b[1m      DataLoader 0       \u001b[0m\u001b[1m \u001b[0m┃\n",
       "┡━━━━━━━━━━━━━━━━━━━━━━━━━━━╇━━━━━━━━━━━━━━━━━━━━━━━━━━━┩\n",
       "│\u001b[36m \u001b[0m\u001b[36m           acc           \u001b[0m\u001b[36m \u001b[0m│\u001b[35m \u001b[0m\u001b[35m   0.4406440556049347    \u001b[0m\u001b[35m \u001b[0m│\n",
       "│\u001b[36m \u001b[0m\u001b[36m           ess           \u001b[0m\u001b[36m \u001b[0m│\u001b[35m \u001b[0m\u001b[35m    0.331617534160614    \u001b[0m\u001b[35m \u001b[0m│\n",
       "│\u001b[36m \u001b[0m\u001b[36m           kl            \u001b[0m\u001b[36m \u001b[0m│\u001b[35m \u001b[0m\u001b[35m   -128.8888397216797    \u001b[0m\u001b[35m \u001b[0m│\n",
       "│\u001b[36m \u001b[0m\u001b[36m          r_max          \u001b[0m\u001b[36m \u001b[0m│\u001b[35m \u001b[0m\u001b[35m          60.0           \u001b[0m\u001b[35m \u001b[0m│\n",
       "│\u001b[36m \u001b[0m\u001b[36m           tau           \u001b[0m\u001b[36m \u001b[0m│\u001b[35m \u001b[0m\u001b[35m   3.1770846843719482    \u001b[0m\u001b[35m \u001b[0m│\n",
       "└───────────────────────────┴───────────────────────────┘\n"
      ]
     },
     "metadata": {},
     "output_type": "display_data"
    },
    {
     "name": "stdout",
     "output_type": "stream",
     "text": [
      "15\n"
     ]
    },
    {
     "data": {
      "text/html": [
       "<pre style=\"white-space:pre;overflow-x:auto;line-height:normal;font-family:Menlo,'DejaVu Sans Mono',consolas,'Courier New',monospace\">┏━━━━━━━━━━━━━━━━━━━━━━━━━━━┳━━━━━━━━━━━━━━━━━━━━━━━━━━━┓\n",
       "┃<span style=\"font-weight: bold\">      Validate metric      </span>┃<span style=\"font-weight: bold\">       DataLoader 0        </span>┃\n",
       "┡━━━━━━━━━━━━━━━━━━━━━━━━━━━╇━━━━━━━━━━━━━━━━━━━━━━━━━━━┩\n",
       "│<span style=\"color: #008080; text-decoration-color: #008080\">            acc            </span>│<span style=\"color: #800080; text-decoration-color: #800080\">    0.8103810548782349     </span>│\n",
       "│<span style=\"color: #008080; text-decoration-color: #008080\">            ess            </span>│<span style=\"color: #800080; text-decoration-color: #800080\">    0.8964096903800964     </span>│\n",
       "│<span style=\"color: #008080; text-decoration-color: #008080\">            kl             </span>│<span style=\"color: #800080; text-decoration-color: #800080\">    -129.40602111816406    </span>│\n",
       "│<span style=\"color: #008080; text-decoration-color: #008080\">           r_max           </span>│<span style=\"color: #800080; text-decoration-color: #800080\">           10.0            </span>│\n",
       "│<span style=\"color: #008080; text-decoration-color: #008080\">            tau            </span>│<span style=\"color: #800080; text-decoration-color: #800080\">    0.7645388245582581     </span>│\n",
       "└───────────────────────────┴───────────────────────────┘\n",
       "</pre>\n"
      ],
      "text/plain": [
       "┏━━━━━━━━━━━━━━━━━━━━━━━━━━━┳━━━━━━━━━━━━━━━━━━━━━━━━━━━┓\n",
       "┃\u001b[1m \u001b[0m\u001b[1m     Validate metric     \u001b[0m\u001b[1m \u001b[0m┃\u001b[1m \u001b[0m\u001b[1m      DataLoader 0       \u001b[0m\u001b[1m \u001b[0m┃\n",
       "┡━━━━━━━━━━━━━━━━━━━━━━━━━━━╇━━━━━━━━━━━━━━━━━━━━━━━━━━━┩\n",
       "│\u001b[36m \u001b[0m\u001b[36m           acc           \u001b[0m\u001b[36m \u001b[0m│\u001b[35m \u001b[0m\u001b[35m   0.8103810548782349    \u001b[0m\u001b[35m \u001b[0m│\n",
       "│\u001b[36m \u001b[0m\u001b[36m           ess           \u001b[0m\u001b[36m \u001b[0m│\u001b[35m \u001b[0m\u001b[35m   0.8964096903800964    \u001b[0m\u001b[35m \u001b[0m│\n",
       "│\u001b[36m \u001b[0m\u001b[36m           kl            \u001b[0m\u001b[36m \u001b[0m│\u001b[35m \u001b[0m\u001b[35m   -129.40602111816406   \u001b[0m\u001b[35m \u001b[0m│\n",
       "│\u001b[36m \u001b[0m\u001b[36m          r_max          \u001b[0m\u001b[36m \u001b[0m│\u001b[35m \u001b[0m\u001b[35m          10.0           \u001b[0m\u001b[35m \u001b[0m│\n",
       "│\u001b[36m \u001b[0m\u001b[36m           tau           \u001b[0m\u001b[36m \u001b[0m│\u001b[35m \u001b[0m\u001b[35m   0.7645388245582581    \u001b[0m\u001b[35m \u001b[0m│\n",
       "└───────────────────────────┴───────────────────────────┘\n"
      ]
     },
     "metadata": {},
     "output_type": "display_data"
    },
    {
     "name": "stdout",
     "output_type": "stream",
     "text": [
      "17\n"
     ]
    },
    {
     "data": {
      "text/html": [
       "<pre style=\"white-space:pre;overflow-x:auto;line-height:normal;font-family:Menlo,'DejaVu Sans Mono',consolas,'Courier New',monospace\">┏━━━━━━━━━━━━━━━━━━━━━━━━━━━┳━━━━━━━━━━━━━━━━━━━━━━━━━━━┓\n",
       "┃<span style=\"font-weight: bold\">      Validate metric      </span>┃<span style=\"font-weight: bold\">       DataLoader 0        </span>┃\n",
       "┡━━━━━━━━━━━━━━━━━━━━━━━━━━━╇━━━━━━━━━━━━━━━━━━━━━━━━━━━┩\n",
       "│<span style=\"color: #008080; text-decoration-color: #008080\">            acc            </span>│<span style=\"color: #800080; text-decoration-color: #800080\">    0.9820982217788696     </span>│\n",
       "│<span style=\"color: #008080; text-decoration-color: #008080\">            ess            </span>│<span style=\"color: #800080; text-decoration-color: #800080\">    0.9991326928138733     </span>│\n",
       "│<span style=\"color: #008080; text-decoration-color: #008080\">            kl             </span>│<span style=\"color: #800080; text-decoration-color: #800080\">    -129.4796905517578     </span>│\n",
       "│<span style=\"color: #008080; text-decoration-color: #008080\">           r_max           </span>│<span style=\"color: #800080; text-decoration-color: #800080\">            2.0            </span>│\n",
       "│<span style=\"color: #008080; text-decoration-color: #008080\">            tau            </span>│<span style=\"color: #800080; text-decoration-color: #800080\">    0.5183018445968628     </span>│\n",
       "└───────────────────────────┴───────────────────────────┘\n",
       "</pre>\n"
      ],
      "text/plain": [
       "┏━━━━━━━━━━━━━━━━━━━━━━━━━━━┳━━━━━━━━━━━━━━━━━━━━━━━━━━━┓\n",
       "┃\u001b[1m \u001b[0m\u001b[1m     Validate metric     \u001b[0m\u001b[1m \u001b[0m┃\u001b[1m \u001b[0m\u001b[1m      DataLoader 0       \u001b[0m\u001b[1m \u001b[0m┃\n",
       "┡━━━━━━━━━━━━━━━━━━━━━━━━━━━╇━━━━━━━━━━━━━━━━━━━━━━━━━━━┩\n",
       "│\u001b[36m \u001b[0m\u001b[36m           acc           \u001b[0m\u001b[36m \u001b[0m│\u001b[35m \u001b[0m\u001b[35m   0.9820982217788696    \u001b[0m\u001b[35m \u001b[0m│\n",
       "│\u001b[36m \u001b[0m\u001b[36m           ess           \u001b[0m\u001b[36m \u001b[0m│\u001b[35m \u001b[0m\u001b[35m   0.9991326928138733    \u001b[0m\u001b[35m \u001b[0m│\n",
       "│\u001b[36m \u001b[0m\u001b[36m           kl            \u001b[0m\u001b[36m \u001b[0m│\u001b[35m \u001b[0m\u001b[35m   -129.4796905517578    \u001b[0m\u001b[35m \u001b[0m│\n",
       "│\u001b[36m \u001b[0m\u001b[36m          r_max          \u001b[0m\u001b[36m \u001b[0m│\u001b[35m \u001b[0m\u001b[35m           2.0           \u001b[0m\u001b[35m \u001b[0m│\n",
       "│\u001b[36m \u001b[0m\u001b[36m           tau           \u001b[0m\u001b[36m \u001b[0m│\u001b[35m \u001b[0m\u001b[35m   0.5183018445968628    \u001b[0m\u001b[35m \u001b[0m│\n",
       "└───────────────────────────┴───────────────────────────┘\n"
      ]
     },
     "metadata": {},
     "output_type": "display_data"
    },
    {
     "name": "stdout",
     "output_type": "stream",
     "text": [
      "19\n"
     ]
    },
    {
     "data": {
      "text/html": [
       "<pre style=\"white-space:pre;overflow-x:auto;line-height:normal;font-family:Menlo,'DejaVu Sans Mono',consolas,'Courier New',monospace\">┏━━━━━━━━━━━━━━━━━━━━━━━━━━━┳━━━━━━━━━━━━━━━━━━━━━━━━━━━┓\n",
       "┃<span style=\"font-weight: bold\">      Validate metric      </span>┃<span style=\"font-weight: bold\">       DataLoader 0        </span>┃\n",
       "┡━━━━━━━━━━━━━━━━━━━━━━━━━━━╇━━━━━━━━━━━━━━━━━━━━━━━━━━━┩\n",
       "│<span style=\"color: #008080; text-decoration-color: #008080\">            acc            </span>│<span style=\"color: #800080; text-decoration-color: #800080\">    0.9793979525566101     </span>│\n",
       "│<span style=\"color: #008080; text-decoration-color: #008080\">            ess            </span>│<span style=\"color: #800080; text-decoration-color: #800080\">    0.9987057447433472     </span>│\n",
       "│<span style=\"color: #008080; text-decoration-color: #008080\">            kl             </span>│<span style=\"color: #800080; text-decoration-color: #800080\">    -129.4794158935547     </span>│\n",
       "│<span style=\"color: #008080; text-decoration-color: #008080\">           r_max           </span>│<span style=\"color: #800080; text-decoration-color: #800080\">            2.0            </span>│\n",
       "│<span style=\"color: #008080; text-decoration-color: #008080\">            tau            </span>│<span style=\"color: #800080; text-decoration-color: #800080\">    0.5216022729873657     </span>│\n",
       "└───────────────────────────┴───────────────────────────┘\n",
       "</pre>\n"
      ],
      "text/plain": [
       "┏━━━━━━━━━━━━━━━━━━━━━━━━━━━┳━━━━━━━━━━━━━━━━━━━━━━━━━━━┓\n",
       "┃\u001b[1m \u001b[0m\u001b[1m     Validate metric     \u001b[0m\u001b[1m \u001b[0m┃\u001b[1m \u001b[0m\u001b[1m      DataLoader 0       \u001b[0m\u001b[1m \u001b[0m┃\n",
       "┡━━━━━━━━━━━━━━━━━━━━━━━━━━━╇━━━━━━━━━━━━━━━━━━━━━━━━━━━┩\n",
       "│\u001b[36m \u001b[0m\u001b[36m           acc           \u001b[0m\u001b[36m \u001b[0m│\u001b[35m \u001b[0m\u001b[35m   0.9793979525566101    \u001b[0m\u001b[35m \u001b[0m│\n",
       "│\u001b[36m \u001b[0m\u001b[36m           ess           \u001b[0m\u001b[36m \u001b[0m│\u001b[35m \u001b[0m\u001b[35m   0.9987057447433472    \u001b[0m\u001b[35m \u001b[0m│\n",
       "│\u001b[36m \u001b[0m\u001b[36m           kl            \u001b[0m\u001b[36m \u001b[0m│\u001b[35m \u001b[0m\u001b[35m   -129.4794158935547    \u001b[0m\u001b[35m \u001b[0m│\n",
       "│\u001b[36m \u001b[0m\u001b[36m          r_max          \u001b[0m\u001b[36m \u001b[0m│\u001b[35m \u001b[0m\u001b[35m           2.0           \u001b[0m\u001b[35m \u001b[0m│\n",
       "│\u001b[36m \u001b[0m\u001b[36m           tau           \u001b[0m\u001b[36m \u001b[0m│\u001b[35m \u001b[0m\u001b[35m   0.5216022729873657    \u001b[0m\u001b[35m \u001b[0m│\n",
       "└───────────────────────────┴───────────────────────────┘\n"
      ]
     },
     "metadata": {},
     "output_type": "display_data"
    },
    {
     "data": {
      "text/plain": [
       "<AxesSubplot:xlabel='K'>"
      ]
     },
     "execution_count": 30,
     "metadata": {},
     "output_type": "execute_result"
    },
    {
     "data": {
      "image/png": "[encoded data removed]",
      "text/plain": [
       "<Figure size 432x288 with 1 Axes>"
      ]
     },
     "metadata": {
      "needs_background": "light"
     },
     "output_type": "display_data"
    }
   ],
   "source": [
    "L = 20\n",
    "M_SQ = (4 / L) ** 2\n",
    "BATCH_SIZE = 4000\n",
    "N_STEPS = 1000\n",
    "\n",
    "target = FreeTheoryTarget(M_SQ)\n",
    "\n",
    "results_k = []\n",
    "for K in range(3, 20, 2):\n",
    "    print(K)\n",
    "    kernel = torch.empty(K, K).uniform_().div(10)\n",
    "\n",
    "    layers = [ConvLayer(kernel)]\n",
    "    model = Model(layers, target, BATCH_SIZE, L)\n",
    "\n",
    "    trainer = pl.Trainer(\n",
    "        gpus=1,\n",
    "        max_steps=N_STEPS,  # total number of training steps\n",
    "        val_check_interval=10000,  # how often to run sampling\n",
    "        limit_val_batches=1,  # one batch for each val step\n",
    "        enable_progress_bar=False,\n",
    "        enable_checkpointing=False,  # manually saving checkpoints\n",
    "        num_sanity_val_steps=0,  # don't try to validate before training\n",
    "        enable_model_summary=False,\n",
    "    )\n",
    "\n",
    "    trainer.fit(model)\n",
    "    (metrics,) = trainer.validate(model)\n",
    "    metrics[\"K\"] = K\n",
    "\n",
    "    results_k.append(metrics)\n",
    "\n",
    "df = pd.DataFrame(results_k)\n",
    "df.plot(\n",
    "    \"K\",\n",
    "    \"acc\",\n",
    ")"
   ]
  },
  {
   "cell_type": "markdown",
   "id": "40497e32-2813-4208-bf56-f52d882a1c3f",
   "metadata": {},
   "source": [
    "This is interesting. The correlation length is 5, but the acceptance remains very low until the kernel size hits around 11-13"
   ]
  },
  {
   "cell_type": "code",
   "execution_count": 31,
   "id": "76b51266-e69b-4e73-97f4-9b49af85d7a5",
   "metadata": {},
   "outputs": [
    {
     "data": {
      "text/html": [
       "<pre style=\"white-space:pre;overflow-x:auto;line-height:normal;font-family:Menlo,'DejaVu Sans Mono',consolas,'Courier New',monospace\">┏━━━┳━━━━━━━━┳━━━━━━━━━━━━┳━━━━━━━━┓\n",
       "┃<span style=\"color: #800080; text-decoration-color: #800080; font-weight: bold\">   </span>┃<span style=\"color: #800080; text-decoration-color: #800080; font-weight: bold\"> Name   </span>┃<span style=\"color: #800080; text-decoration-color: #800080; font-weight: bold\"> Type       </span>┃<span style=\"color: #800080; text-decoration-color: #800080; font-weight: bold\"> Params </span>┃\n",
       "┡━━━╇━━━━━━━━╇━━━━━━━━━━━━╇━━━━━━━━┩\n",
       "│<span style=\"color: #7f7f7f; text-decoration-color: #7f7f7f\"> 0 </span>│ layers │ ModuleList │     25 │\n",
       "└───┴────────┴────────────┴────────┘\n",
       "</pre>\n"
      ],
      "text/plain": [
       "┏━━━┳━━━━━━━━┳━━━━━━━━━━━━┳━━━━━━━━┓\n",
       "┃\u001b[1;35m \u001b[0m\u001b[1;35m \u001b[0m\u001b[1;35m \u001b[0m┃\u001b[1;35m \u001b[0m\u001b[1;35mName  \u001b[0m\u001b[1;35m \u001b[0m┃\u001b[1;35m \u001b[0m\u001b[1;35mType      \u001b[0m\u001b[1;35m \u001b[0m┃\u001b[1;35m \u001b[0m\u001b[1;35mParams\u001b[0m\u001b[1;35m \u001b[0m┃\n",
       "┡━━━╇━━━━━━━━╇━━━━━━━━━━━━╇━━━━━━━━┩\n",
       "│\u001b[2m \u001b[0m\u001b[2m0\u001b[0m\u001b[2m \u001b[0m│ layers │ ModuleList │     25 │\n",
       "└───┴────────┴────────────┴────────┘\n"
      ]
     },
     "metadata": {},
     "output_type": "display_data"
    },
    {
     "data": {
      "text/html": [
       "<pre style=\"white-space:pre;overflow-x:auto;line-height:normal;font-family:Menlo,'DejaVu Sans Mono',consolas,'Courier New',monospace\"><span style=\"font-weight: bold\">Trainable params</span>: 25                                                                         \n",
       "<span style=\"font-weight: bold\">Non-trainable params</span>: 0                                                                      \n",
       "<span style=\"font-weight: bold\">Total params</span>: 25                                                                             \n",
       "<span style=\"font-weight: bold\">Total estimated model params size (MB)</span>: 0                                                    \n",
       "</pre>\n"
      ],
      "text/plain": [
       "\u001b[1mTrainable params\u001b[0m: 25                                                                         \n",
       "\u001b[1mNon-trainable params\u001b[0m: 0                                                                      \n",
       "\u001b[1mTotal params\u001b[0m: 25                                                                             \n",
       "\u001b[1mTotal estimated model params size (MB)\u001b[0m: 0                                                    \n"
      ]
     },
     "metadata": {},
     "output_type": "display_data"
    },
    {
     "data": {
      "application/vnd.jupyter.widget-view+json": {
       "model_id": "66dd1ba5e303458081e832dbf1845277",
       "version_major": 2,
       "version_minor": 0
      },
      "text/plain": [
       "Output()"
      ]
     },
     "metadata": {},
     "output_type": "display_data"
    },
    {
     "data": {
      "text/html": [
       "<pre style=\"white-space:pre;overflow-x:auto;line-height:normal;font-family:Menlo,'DejaVu Sans Mono',consolas,'Courier New',monospace\"></pre>\n"
      ],
      "text/plain": []
     },
     "metadata": {},
     "output_type": "display_data"
    },
    {
     "data": {
      "text/html": [
       "<pre style=\"white-space:pre;overflow-x:auto;line-height:normal;font-family:Menlo,'DejaVu Sans Mono',consolas,'Courier New',monospace\">\n",
       "</pre>\n"
      ],
      "text/plain": [
       "\n"
      ]
     },
     "metadata": {},
     "output_type": "display_data"
    },
    {
     "data": {
      "application/vnd.jupyter.widget-view+json": {
       "model_id": "d253f555f2a249cfa667138dd083a586",
       "version_major": 2,
       "version_minor": 0
      },
      "text/plain": [
       "Output()"
      ]
     },
     "metadata": {},
     "output_type": "display_data"
    },
    {
     "data": {
      "text/html": [
       "<pre style=\"white-space:pre;overflow-x:auto;line-height:normal;font-family:Menlo,'DejaVu Sans Mono',consolas,'Courier New',monospace\">┏━━━━━━━━━━━━━━━━━━━━━━━━━━━┳━━━━━━━━━━━━━━━━━━━━━━━━━━━┓\n",
       "┃<span style=\"font-weight: bold\">      Validate metric      </span>┃<span style=\"font-weight: bold\">       DataLoader 0        </span>┃\n",
       "┡━━━━━━━━━━━━━━━━━━━━━━━━━━━╇━━━━━━━━━━━━━━━━━━━━━━━━━━━┩\n",
       "│<span style=\"color: #008080; text-decoration-color: #008080\">            acc            </span>│<span style=\"color: #800080; text-decoration-color: #800080\">   0.0027002699207514524   </span>│\n",
       "│<span style=\"color: #008080; text-decoration-color: #008080\">            ess            </span>│<span style=\"color: #800080; text-decoration-color: #800080\">   0.0003611703868955374   </span>│\n",
       "│<span style=\"color: #008080; text-decoration-color: #008080\">            kl             </span>│<span style=\"color: #800080; text-decoration-color: #800080\">     -108.301025390625     </span>│\n",
       "│<span style=\"color: #008080; text-decoration-color: #008080\">           r_max           </span>│<span style=\"color: #800080; text-decoration-color: #800080\">          5296.0           </span>│\n",
       "│<span style=\"color: #008080; text-decoration-color: #008080\">            tau            </span>│<span style=\"color: #800080; text-decoration-color: #800080\">    2017.0904541015625     </span>│\n",
       "└───────────────────────────┴───────────────────────────┘\n",
       "</pre>\n"
      ],
      "text/plain": [
       "┏━━━━━━━━━━━━━━━━━━━━━━━━━━━┳━━━━━━━━━━━━━━━━━━━━━━━━━━━┓\n",
       "┃\u001b[1m \u001b[0m\u001b[1m     Validate metric     \u001b[0m\u001b[1m \u001b[0m┃\u001b[1m \u001b[0m\u001b[1m      DataLoader 0       \u001b[0m\u001b[1m \u001b[0m┃\n",
       "┡━━━━━━━━━━━━━━━━━━━━━━━━━━━╇━━━━━━━━━━━━━━━━━━━━━━━━━━━┩\n",
       "│\u001b[36m \u001b[0m\u001b[36m           acc           \u001b[0m\u001b[36m \u001b[0m│\u001b[35m \u001b[0m\u001b[35m  0.0027002699207514524  \u001b[0m\u001b[35m \u001b[0m│\n",
       "│\u001b[36m \u001b[0m\u001b[36m           ess           \u001b[0m\u001b[36m \u001b[0m│\u001b[35m \u001b[0m\u001b[35m  0.0003611703868955374  \u001b[0m\u001b[35m \u001b[0m│\n",
       "│\u001b[36m \u001b[0m\u001b[36m           kl            \u001b[0m\u001b[36m \u001b[0m│\u001b[35m \u001b[0m\u001b[35m    -108.301025390625    \u001b[0m\u001b[35m \u001b[0m│\n",
       "│\u001b[36m \u001b[0m\u001b[36m          r_max          \u001b[0m\u001b[36m \u001b[0m│\u001b[35m \u001b[0m\u001b[35m         5296.0          \u001b[0m\u001b[35m \u001b[0m│\n",
       "│\u001b[36m \u001b[0m\u001b[36m           tau           \u001b[0m\u001b[36m \u001b[0m│\u001b[35m \u001b[0m\u001b[35m   2017.0904541015625    \u001b[0m\u001b[35m \u001b[0m│\n",
       "└───────────────────────────┴───────────────────────────┘\n"
      ]
     },
     "metadata": {},
     "output_type": "display_data"
    },
    {
     "data": {
      "text/html": [
       "<pre style=\"white-space:pre;overflow-x:auto;line-height:normal;font-family:Menlo,'DejaVu Sans Mono',consolas,'Courier New',monospace\"></pre>\n"
      ],
      "text/plain": []
     },
     "metadata": {},
     "output_type": "display_data"
    },
    {
     "data": {
      "text/html": [
       "<pre style=\"white-space:pre;overflow-x:auto;line-height:normal;font-family:Menlo,'DejaVu Sans Mono',consolas,'Courier New',monospace\">\n",
       "</pre>\n"
      ],
      "text/plain": [
       "\n"
      ]
     },
     "metadata": {},
     "output_type": "display_data"
    },
    {
     "data": {
      "image/png": "[encoded data removed]",
      "text/plain": [
       "<Figure size 432x288 with 2 Axes>"
      ]
     },
     "metadata": {
      "needs_background": "light"
     },
     "output_type": "display_data"
    },
    {
     "data": {
      "image/png": "[encoded data removed]",
      "text/plain": [
       "<Figure size 432x288 with 2 Axes>"
      ]
     },
     "metadata": {
      "needs_background": "light"
     },
     "output_type": "display_data"
    },
    {
     "data": {
      "image/png": "[encoded data removed]",
      "text/plain": [
       "<Figure size 432x288 with 2 Axes>"
      ]
     },
     "metadata": {
      "needs_background": "light"
     },
     "output_type": "display_data"
    }
   ],
   "source": [
    "L = 20\n",
    "M_SQ = (4 / L) ** 2\n",
    "BATCH_SIZE = 4000\n",
    "N_STEPS = 1000\n",
    "\n",
    "kernel = torch.empty(5, 5).uniform_().div(10)\n",
    "target = FreeTheoryTarget(M_SQ)\n",
    "layers = [ConvLayer(kernel)]\n",
    "model = Model(layers, target, BATCH_SIZE, L)\n",
    "\n",
    "trainer = pl.Trainer(\n",
    "    gpus=1,\n",
    "    max_steps=N_STEPS,  # total number of training steps\n",
    "    val_check_interval=10000,  # how often to run sampling\n",
    "    limit_val_batches=1,  # one batch for each val step\n",
    "    callbacks=[RichProgressBar()],\n",
    "    enable_checkpointing=False,  # manually saving checkpoints\n",
    "    num_sanity_val_steps=0,  # don't try to validate before training\n",
    ")\n",
    "\n",
    "trainer.fit(model)\n",
    "_ = trainer.validate(model)\n",
    "\n",
    "outputs = model.step_forward()\n",
    "phi, log_prob = next(outputs)  # prior\n",
    "convnet_phi4.plot.heatmap_correlator(phi)\n",
    "for layer, (phi, log_prob) in zip(model.layers, outputs):\n",
    "    layer.visualise()\n",
    "    convnet_phi4.plot.heatmap_correlator(phi)\n",
    "\n",
    "plt.show()"
   ]
  },
  {
   "cell_type": "markdown",
   "id": "2d661a04-b0c9-4111-a77f-7381ec89295f",
   "metadata": {},
   "source": [
    "## Rotation equivariance"
   ]
  },
  {
   "cell_type": "code",
   "execution_count": 38,
   "id": "0d57ba39-6483-426c-9050-8b9744860218",
   "metadata": {},
   "outputs": [
    {
     "data": {
      "text/html": [
       "<pre style=\"white-space:pre;overflow-x:auto;line-height:normal;font-family:Menlo,'DejaVu Sans Mono',consolas,'Courier New',monospace\">┏━━━┳━━━━━━━━┳━━━━━━━━━━━━┳━━━━━━━━┓\n",
       "┃<span style=\"color: #800080; text-decoration-color: #800080; font-weight: bold\">   </span>┃<span style=\"color: #800080; text-decoration-color: #800080; font-weight: bold\"> Name   </span>┃<span style=\"color: #800080; text-decoration-color: #800080; font-weight: bold\"> Type       </span>┃<span style=\"color: #800080; text-decoration-color: #800080; font-weight: bold\"> Params </span>┃\n",
       "┡━━━╇━━━━━━━━╇━━━━━━━━━━━━╇━━━━━━━━┩\n",
       "│<span style=\"color: #7f7f7f; text-decoration-color: #7f7f7f\"> 0 </span>│ layers │ ModuleList │     15 │\n",
       "└───┴────────┴────────────┴────────┘\n",
       "</pre>\n"
      ],
      "text/plain": [
       "┏━━━┳━━━━━━━━┳━━━━━━━━━━━━┳━━━━━━━━┓\n",
       "┃\u001b[1;35m \u001b[0m\u001b[1;35m \u001b[0m\u001b[1;35m \u001b[0m┃\u001b[1;35m \u001b[0m\u001b[1;35mName  \u001b[0m\u001b[1;35m \u001b[0m┃\u001b[1;35m \u001b[0m\u001b[1;35mType      \u001b[0m\u001b[1;35m \u001b[0m┃\u001b[1;35m \u001b[0m\u001b[1;35mParams\u001b[0m\u001b[1;35m \u001b[0m┃\n",
       "┡━━━╇━━━━━━━━╇━━━━━━━━━━━━╇━━━━━━━━┩\n",
       "│\u001b[2m \u001b[0m\u001b[2m0\u001b[0m\u001b[2m \u001b[0m│ layers │ ModuleList │     15 │\n",
       "└───┴────────┴────────────┴────────┘\n"
      ]
     },
     "metadata": {},
     "output_type": "display_data"
    },
    {
     "data": {
      "text/html": [
       "<pre style=\"white-space:pre;overflow-x:auto;line-height:normal;font-family:Menlo,'DejaVu Sans Mono',consolas,'Courier New',monospace\"><span style=\"font-weight: bold\">Trainable params</span>: 15                                                                         \n",
       "<span style=\"font-weight: bold\">Non-trainable params</span>: 0                                                                      \n",
       "<span style=\"font-weight: bold\">Total params</span>: 15                                                                             \n",
       "<span style=\"font-weight: bold\">Total estimated model params size (MB)</span>: 0                                                    \n",
       "</pre>\n"
      ],
      "text/plain": [
       "\u001b[1mTrainable params\u001b[0m: 15                                                                         \n",
       "\u001b[1mNon-trainable params\u001b[0m: 0                                                                      \n",
       "\u001b[1mTotal params\u001b[0m: 15                                                                             \n",
       "\u001b[1mTotal estimated model params size (MB)\u001b[0m: 0                                                    \n"
      ]
     },
     "metadata": {},
     "output_type": "display_data"
    },
    {
     "data": {
      "application/vnd.jupyter.widget-view+json": {
       "model_id": "28f3e3da1eab4db19aa351bdda219fc4",
       "version_major": 2,
       "version_minor": 0
      },
      "text/plain": [
       "Output()"
      ]
     },
     "metadata": {},
     "output_type": "display_data"
    },
    {
     "data": {
      "text/html": [
       "<pre style=\"white-space:pre;overflow-x:auto;line-height:normal;font-family:Menlo,'DejaVu Sans Mono',consolas,'Courier New',monospace\"></pre>\n"
      ],
      "text/plain": []
     },
     "metadata": {},
     "output_type": "display_data"
    },
    {
     "data": {
      "text/html": [
       "<pre style=\"white-space:pre;overflow-x:auto;line-height:normal;font-family:Menlo,'DejaVu Sans Mono',consolas,'Courier New',monospace\">\n",
       "</pre>\n"
      ],
      "text/plain": [
       "\n"
      ]
     },
     "metadata": {},
     "output_type": "display_data"
    },
    {
     "data": {
      "application/vnd.jupyter.widget-view+json": {
       "model_id": "367b078bffd74c57aaf69a9ace7c6436",
       "version_major": 2,
       "version_minor": 0
      },
      "text/plain": [
       "Output()"
      ]
     },
     "metadata": {},
     "output_type": "display_data"
    },
    {
     "data": {
      "text/html": [
       "<pre style=\"white-space:pre;overflow-x:auto;line-height:normal;font-family:Menlo,'DejaVu Sans Mono',consolas,'Courier New',monospace\">┏━━━━━━━━━━━━━━━━━━━━━━━━━━━┳━━━━━━━━━━━━━━━━━━━━━━━━━━━┓\n",
       "┃<span style=\"font-weight: bold\">      Validate metric      </span>┃<span style=\"font-weight: bold\">       DataLoader 0        </span>┃\n",
       "┡━━━━━━━━━━━━━━━━━━━━━━━━━━━╇━━━━━━━━━━━━━━━━━━━━━━━━━━━┩\n",
       "│<span style=\"color: #008080; text-decoration-color: #008080\">            acc            </span>│<span style=\"color: #800080; text-decoration-color: #800080\">   0.0014001399977132678   </span>│\n",
       "│<span style=\"color: #008080; text-decoration-color: #008080\">            ess            </span>│<span style=\"color: #800080; text-decoration-color: #800080\">  0.00022003240883350372   </span>│\n",
       "│<span style=\"color: #008080; text-decoration-color: #008080\">            kl             </span>│<span style=\"color: #800080; text-decoration-color: #800080\">    -96.05780029296875     </span>│\n",
       "│<span style=\"color: #008080; text-decoration-color: #008080\">           r_max           </span>│<span style=\"color: #800080; text-decoration-color: #800080\">          5551.0           </span>│\n",
       "│<span style=\"color: #008080; text-decoration-color: #008080\">            tau            </span>│<span style=\"color: #800080; text-decoration-color: #800080\">     2801.606689453125     </span>│\n",
       "└───────────────────────────┴───────────────────────────┘\n",
       "</pre>\n"
      ],
      "text/plain": [
       "┏━━━━━━━━━━━━━━━━━━━━━━━━━━━┳━━━━━━━━━━━━━━━━━━━━━━━━━━━┓\n",
       "┃\u001b[1m \u001b[0m\u001b[1m     Validate metric     \u001b[0m\u001b[1m \u001b[0m┃\u001b[1m \u001b[0m\u001b[1m      DataLoader 0       \u001b[0m\u001b[1m \u001b[0m┃\n",
       "┡━━━━━━━━━━━━━━━━━━━━━━━━━━━╇━━━━━━━━━━━━━━━━━━━━━━━━━━━┩\n",
       "│\u001b[36m \u001b[0m\u001b[36m           acc           \u001b[0m\u001b[36m \u001b[0m│\u001b[35m \u001b[0m\u001b[35m  0.0014001399977132678  \u001b[0m\u001b[35m \u001b[0m│\n",
       "│\u001b[36m \u001b[0m\u001b[36m           ess           \u001b[0m\u001b[36m \u001b[0m│\u001b[35m \u001b[0m\u001b[35m 0.00022003240883350372  \u001b[0m\u001b[35m \u001b[0m│\n",
       "│\u001b[36m \u001b[0m\u001b[36m           kl            \u001b[0m\u001b[36m \u001b[0m│\u001b[35m \u001b[0m\u001b[35m   -96.05780029296875    \u001b[0m\u001b[35m \u001b[0m│\n",
       "│\u001b[36m \u001b[0m\u001b[36m          r_max          \u001b[0m\u001b[36m \u001b[0m│\u001b[35m \u001b[0m\u001b[35m         5551.0          \u001b[0m\u001b[35m \u001b[0m│\n",
       "│\u001b[36m \u001b[0m\u001b[36m           tau           \u001b[0m\u001b[36m \u001b[0m│\u001b[35m \u001b[0m\u001b[35m    2801.606689453125    \u001b[0m\u001b[35m \u001b[0m│\n",
       "└───────────────────────────┴───────────────────────────┘\n"
      ]
     },
     "metadata": {},
     "output_type": "display_data"
    },
    {
     "data": {
      "text/html": [
       "<pre style=\"white-space:pre;overflow-x:auto;line-height:normal;font-family:Menlo,'DejaVu Sans Mono',consolas,'Courier New',monospace\"></pre>\n"
      ],
      "text/plain": []
     },
     "metadata": {},
     "output_type": "display_data"
    },
    {
     "data": {
      "text/html": [
       "<pre style=\"white-space:pre;overflow-x:auto;line-height:normal;font-family:Menlo,'DejaVu Sans Mono',consolas,'Courier New',monospace\">\n",
       "</pre>\n"
      ],
      "text/plain": [
       "\n"
      ]
     },
     "metadata": {},
     "output_type": "display_data"
    },
    {
     "data": {
      "text/html": [
       "<pre style=\"white-space:pre;overflow-x:auto;line-height:normal;font-family:Menlo,'DejaVu Sans Mono',consolas,'Courier New',monospace\">┏━━━┳━━━━━━━━┳━━━━━━━━━━━━┳━━━━━━━━┓\n",
       "┃<span style=\"color: #800080; text-decoration-color: #800080; font-weight: bold\">   </span>┃<span style=\"color: #800080; text-decoration-color: #800080; font-weight: bold\"> Name   </span>┃<span style=\"color: #800080; text-decoration-color: #800080; font-weight: bold\"> Type       </span>┃<span style=\"color: #800080; text-decoration-color: #800080; font-weight: bold\"> Params </span>┃\n",
       "┡━━━╇━━━━━━━━╇━━━━━━━━━━━━╇━━━━━━━━┩\n",
       "│<span style=\"color: #7f7f7f; text-decoration-color: #7f7f7f\"> 0 </span>│ layers │ ModuleList │     25 │\n",
       "└───┴────────┴────────────┴────────┘\n",
       "</pre>\n"
      ],
      "text/plain": [
       "┏━━━┳━━━━━━━━┳━━━━━━━━━━━━┳━━━━━━━━┓\n",
       "┃\u001b[1;35m \u001b[0m\u001b[1;35m \u001b[0m\u001b[1;35m \u001b[0m┃\u001b[1;35m \u001b[0m\u001b[1;35mName  \u001b[0m\u001b[1;35m \u001b[0m┃\u001b[1;35m \u001b[0m\u001b[1;35mType      \u001b[0m\u001b[1;35m \u001b[0m┃\u001b[1;35m \u001b[0m\u001b[1;35mParams\u001b[0m\u001b[1;35m \u001b[0m┃\n",
       "┡━━━╇━━━━━━━━╇━━━━━━━━━━━━╇━━━━━━━━┩\n",
       "│\u001b[2m \u001b[0m\u001b[2m0\u001b[0m\u001b[2m \u001b[0m│ layers │ ModuleList │     25 │\n",
       "└───┴────────┴────────────┴────────┘\n"
      ]
     },
     "metadata": {},
     "output_type": "display_data"
    },
    {
     "data": {
      "text/html": [
       "<pre style=\"white-space:pre;overflow-x:auto;line-height:normal;font-family:Menlo,'DejaVu Sans Mono',consolas,'Courier New',monospace\"><span style=\"font-weight: bold\">Trainable params</span>: 25                                                                         \n",
       "<span style=\"font-weight: bold\">Non-trainable params</span>: 0                                                                      \n",
       "<span style=\"font-weight: bold\">Total params</span>: 25                                                                             \n",
       "<span style=\"font-weight: bold\">Total estimated model params size (MB)</span>: 0                                                    \n",
       "</pre>\n"
      ],
      "text/plain": [
       "\u001b[1mTrainable params\u001b[0m: 25                                                                         \n",
       "\u001b[1mNon-trainable params\u001b[0m: 0                                                                      \n",
       "\u001b[1mTotal params\u001b[0m: 25                                                                             \n",
       "\u001b[1mTotal estimated model params size (MB)\u001b[0m: 0                                                    \n"
      ]
     },
     "metadata": {},
     "output_type": "display_data"
    },
    {
     "data": {
      "application/vnd.jupyter.widget-view+json": {
       "model_id": "d2f190c8de7648fa8671c5380ed856be",
       "version_major": 2,
       "version_minor": 0
      },
      "text/plain": [
       "Output()"
      ]
     },
     "metadata": {},
     "output_type": "display_data"
    },
    {
     "data": {
      "text/html": [
       "<pre style=\"white-space:pre;overflow-x:auto;line-height:normal;font-family:Menlo,'DejaVu Sans Mono',consolas,'Courier New',monospace\"></pre>\n"
      ],
      "text/plain": []
     },
     "metadata": {},
     "output_type": "display_data"
    },
    {
     "data": {
      "text/html": [
       "<pre style=\"white-space:pre;overflow-x:auto;line-height:normal;font-family:Menlo,'DejaVu Sans Mono',consolas,'Courier New',monospace\">\n",
       "</pre>\n"
      ],
      "text/plain": [
       "\n"
      ]
     },
     "metadata": {},
     "output_type": "display_data"
    },
    {
     "data": {
      "application/vnd.jupyter.widget-view+json": {
       "model_id": "464be377bfff48faaef488324a9c4687",
       "version_major": 2,
       "version_minor": 0
      },
      "text/plain": [
       "Output()"
      ]
     },
     "metadata": {},
     "output_type": "display_data"
    },
    {
     "data": {
      "text/html": [
       "<pre style=\"white-space:pre;overflow-x:auto;line-height:normal;font-family:Menlo,'DejaVu Sans Mono',consolas,'Courier New',monospace\">┏━━━━━━━━━━━━━━━━━━━━━━━━━━━┳━━━━━━━━━━━━━━━━━━━━━━━━━━━┓\n",
       "┃<span style=\"font-weight: bold\">      Validate metric      </span>┃<span style=\"font-weight: bold\">       DataLoader 0        </span>┃\n",
       "┡━━━━━━━━━━━━━━━━━━━━━━━━━━━╇━━━━━━━━━━━━━━━━━━━━━━━━━━━┩\n",
       "│<span style=\"color: #008080; text-decoration-color: #008080\">            acc            </span>│<span style=\"color: #800080; text-decoration-color: #800080\">    0.9964995980262756     </span>│\n",
       "│<span style=\"color: #008080; text-decoration-color: #008080\">            ess            </span>│<span style=\"color: #800080; text-decoration-color: #800080\">    0.9999658465385437     </span>│\n",
       "│<span style=\"color: #008080; text-decoration-color: #008080\">            kl             </span>│<span style=\"color: #800080; text-decoration-color: #800080\">    -8.835005760192871     </span>│\n",
       "│<span style=\"color: #008080; text-decoration-color: #008080\">           r_max           </span>│<span style=\"color: #800080; text-decoration-color: #800080\">            1.0            </span>│\n",
       "│<span style=\"color: #008080; text-decoration-color: #008080\">            tau            </span>│<span style=\"color: #800080; text-decoration-color: #800080\">    0.5035003423690796     </span>│\n",
       "└───────────────────────────┴───────────────────────────┘\n",
       "</pre>\n"
      ],
      "text/plain": [
       "┏━━━━━━━━━━━━━━━━━━━━━━━━━━━┳━━━━━━━━━━━━━━━━━━━━━━━━━━━┓\n",
       "┃\u001b[1m \u001b[0m\u001b[1m     Validate metric     \u001b[0m\u001b[1m \u001b[0m┃\u001b[1m \u001b[0m\u001b[1m      DataLoader 0       \u001b[0m\u001b[1m \u001b[0m┃\n",
       "┡━━━━━━━━━━━━━━━━━━━━━━━━━━━╇━━━━━━━━━━━━━━━━━━━━━━━━━━━┩\n",
       "│\u001b[36m \u001b[0m\u001b[36m           acc           \u001b[0m\u001b[36m \u001b[0m│\u001b[35m \u001b[0m\u001b[35m   0.9964995980262756    \u001b[0m\u001b[35m \u001b[0m│\n",
       "│\u001b[36m \u001b[0m\u001b[36m           ess           \u001b[0m\u001b[36m \u001b[0m│\u001b[35m \u001b[0m\u001b[35m   0.9999658465385437    \u001b[0m\u001b[35m \u001b[0m│\n",
       "│\u001b[36m \u001b[0m\u001b[36m           kl            \u001b[0m\u001b[36m \u001b[0m│\u001b[35m \u001b[0m\u001b[35m   -8.835005760192871    \u001b[0m\u001b[35m \u001b[0m│\n",
       "│\u001b[36m \u001b[0m\u001b[36m          r_max          \u001b[0m\u001b[36m \u001b[0m│\u001b[35m \u001b[0m\u001b[35m           1.0           \u001b[0m\u001b[35m \u001b[0m│\n",
       "│\u001b[36m \u001b[0m\u001b[36m           tau           \u001b[0m\u001b[36m \u001b[0m│\u001b[35m \u001b[0m\u001b[35m   0.5035003423690796    \u001b[0m\u001b[35m \u001b[0m│\n",
       "└───────────────────────────┴───────────────────────────┘\n"
      ]
     },
     "metadata": {},
     "output_type": "display_data"
    },
    {
     "data": {
      "text/html": [
       "<pre style=\"white-space:pre;overflow-x:auto;line-height:normal;font-family:Menlo,'DejaVu Sans Mono',consolas,'Courier New',monospace\"></pre>\n"
      ],
      "text/plain": []
     },
     "metadata": {},
     "output_type": "display_data"
    },
    {
     "data": {
      "text/html": [
       "<pre style=\"white-space:pre;overflow-x:auto;line-height:normal;font-family:Menlo,'DejaVu Sans Mono',consolas,'Courier New',monospace\">\n",
       "</pre>\n"
      ],
      "text/plain": [
       "\n"
      ]
     },
     "metadata": {},
     "output_type": "display_data"
    },
    {
     "data": {
      "image/png": "[encoded data removed]",
      "text/plain": [
       "<Figure size 432x288 with 1 Axes>"
      ]
     },
     "metadata": {
      "needs_background": "light"
     },
     "output_type": "display_data"
    },
    {
     "data": {
      "image/png": "[encoded data removed]",
      "text/plain": [
       "<Figure size 432x288 with 2 Axes>"
      ]
     },
     "metadata": {
      "needs_background": "light"
     },
     "output_type": "display_data"
    },
    {
     "data": {
      "image/png": "[encoded data removed]",
      "text/plain": [
       "<Figure size 432x288 with 2 Axes>"
      ]
     },
     "metadata": {
      "needs_background": "light"
     },
     "output_type": "display_data"
    },
    {
     "data": {
      "image/png": "[encoded data removed]",
      "text/plain": [
       "<Figure size 432x288 with 2 Axes>"
      ]
     },
     "metadata": {
      "needs_background": "light"
     },
     "output_type": "display_data"
    },
    {
     "data": {
      "image/png": "[encoded data removed]",
      "text/plain": [
       "<Figure size 432x288 with 2 Axes>"
      ]
     },
     "metadata": {
      "needs_background": "light"
     },
     "output_type": "display_data"
    }
   ],
   "source": [
    "L = 6\n",
    "M_SQ = (4 / L) ** 2\n",
    "BATCH_SIZE = 4000\n",
    "N_STEPS = 1000\n",
    "\n",
    "kernel = torch.empty(5, 5).uniform_()\n",
    "plt.imshow(kernel)\n",
    "\n",
    "target = FreeTheoryTarget(M_SQ)\n",
    "\n",
    "normal_layer = ConvLayer(kernel)\n",
    "inv_layer = RotationInvariantConvLayer(kernel.tril())\n",
    "\n",
    "for layer in reversed([normal_layer, inv_layer]):\n",
    "\n",
    "    model = Model([layer], target, BATCH_SIZE, L)\n",
    "\n",
    "    trainer = pl.Trainer(\n",
    "        gpus=1,\n",
    "        max_steps=N_STEPS,  # total number of training steps\n",
    "        val_check_interval=10000,  # how often to run sampling\n",
    "        limit_val_batches=1,  # one batch for each val step\n",
    "        callbacks=[RichProgressBar()],\n",
    "        enable_checkpointing=False,  # manually saving checkpoints\n",
    "        num_sanity_val_steps=0,  # don't try to validate before training\n",
    "    )\n",
    "\n",
    "    trainer.fit(model)\n",
    "    _ = trainer.validate(model)\n",
    "\n",
    "    outputs = model.step_forward()\n",
    "    phi, log_prob = next(outputs)  # prior\n",
    "    model.layers[0].visualise()\n",
    "    phi, log_prob = next(outputs)\n",
    "    convnet_phi4.plot.heatmap_correlator(phi)\n",
    "\n",
    "plt.show()"
   ]
  },
  {
   "cell_type": "markdown",
   "id": "20151b0f-9d5d-471c-8d59-2264722fb8c9",
   "metadata": {},
   "source": [
    "# Phi^4 Example\n",
    "\n",
    "I don't expect this to do well without additional non-linearities."
   ]
  },
  {
   "cell_type": "code",
   "execution_count": 40,
   "id": "3fd2bc3e-07e2-4e65-ad65-a2418a90dcc9",
   "metadata": {},
   "outputs": [],
   "source": [
    "class PhiFourTarget:\n",
    "    def __init__(self, beta: float, lam: float):\n",
    "        self.beta = beta\n",
    "        self.lam = lam\n",
    "\n",
    "    def action(self, phi: torch.Tensor):\n",
    "        assert phi.dim() == 3\n",
    "\n",
    "        action_density = torch.zeros_like(phi)\n",
    "        action_density.sub_(phi.mul(phi.roll(-1, 1)).mul(self.beta))\n",
    "        action_density.sub_(phi.mul(phi.roll(-1, 2)).mul(self.beta))\n",
    "        action_density.add_(phi.pow(2).mul((1 - 2 * self.lam)))\n",
    "        action_density.add_(phi.pow(4).mul(self.lam))\n",
    "\n",
    "        return action_density.flatten(start_dim=1).sum(dim=1)\n",
    "\n",
    "    def log_prob(self, phi: torch.Tensor):\n",
    "        return self.action(phi).neg()"
   ]
  },
  {
   "cell_type": "code",
   "execution_count": 41,
   "id": "db8af96c-38cf-4483-8058-9fa70e7e89ac",
   "metadata": {},
   "outputs": [
    {
     "data": {
      "text/html": [
       "<pre style=\"white-space:pre;overflow-x:auto;line-height:normal;font-family:Menlo,'DejaVu Sans Mono',consolas,'Courier New',monospace\">┏━━━┳━━━━━━━━┳━━━━━━━━━━━━┳━━━━━━━━┓\n",
       "┃<span style=\"color: #800080; text-decoration-color: #800080; font-weight: bold\">   </span>┃<span style=\"color: #800080; text-decoration-color: #800080; font-weight: bold\"> Name   </span>┃<span style=\"color: #800080; text-decoration-color: #800080; font-weight: bold\"> Type       </span>┃<span style=\"color: #800080; text-decoration-color: #800080; font-weight: bold\"> Params </span>┃\n",
       "┡━━━╇━━━━━━━━╇━━━━━━━━━━━━╇━━━━━━━━┩\n",
       "│<span style=\"color: #7f7f7f; text-decoration-color: #7f7f7f\"> 0 </span>│ layers │ ModuleList │     25 │\n",
       "└───┴────────┴────────────┴────────┘\n",
       "</pre>\n"
      ],
      "text/plain": [
       "┏━━━┳━━━━━━━━┳━━━━━━━━━━━━┳━━━━━━━━┓\n",
       "┃\u001b[1;35m \u001b[0m\u001b[1;35m \u001b[0m\u001b[1;35m \u001b[0m┃\u001b[1;35m \u001b[0m\u001b[1;35mName  \u001b[0m\u001b[1;35m \u001b[0m┃\u001b[1;35m \u001b[0m\u001b[1;35mType      \u001b[0m\u001b[1;35m \u001b[0m┃\u001b[1;35m \u001b[0m\u001b[1;35mParams\u001b[0m\u001b[1;35m \u001b[0m┃\n",
       "┡━━━╇━━━━━━━━╇━━━━━━━━━━━━╇━━━━━━━━┩\n",
       "│\u001b[2m \u001b[0m\u001b[2m0\u001b[0m\u001b[2m \u001b[0m│ layers │ ModuleList │     25 │\n",
       "└───┴────────┴────────────┴────────┘\n"
      ]
     },
     "metadata": {},
     "output_type": "display_data"
    },
    {
     "data": {
      "text/html": [
       "<pre style=\"white-space:pre;overflow-x:auto;line-height:normal;font-family:Menlo,'DejaVu Sans Mono',consolas,'Courier New',monospace\"><span style=\"font-weight: bold\">Trainable params</span>: 25                                                                         \n",
       "<span style=\"font-weight: bold\">Non-trainable params</span>: 0                                                                      \n",
       "<span style=\"font-weight: bold\">Total params</span>: 25                                                                             \n",
       "<span style=\"font-weight: bold\">Total estimated model params size (MB)</span>: 0                                                    \n",
       "</pre>\n"
      ],
      "text/plain": [
       "\u001b[1mTrainable params\u001b[0m: 25                                                                         \n",
       "\u001b[1mNon-trainable params\u001b[0m: 0                                                                      \n",
       "\u001b[1mTotal params\u001b[0m: 25                                                                             \n",
       "\u001b[1mTotal estimated model params size (MB)\u001b[0m: 0                                                    \n"
      ]
     },
     "metadata": {},
     "output_type": "display_data"
    },
    {
     "data": {
      "application/vnd.jupyter.widget-view+json": {
       "model_id": "b4e36e80e6034faf98891fbb2846ee84",
       "version_major": 2,
       "version_minor": 0
      },
      "text/plain": [
       "Output()"
      ]
     },
     "metadata": {},
     "output_type": "display_data"
    },
    {
     "data": {
      "text/html": [
       "<pre style=\"white-space:pre;overflow-x:auto;line-height:normal;font-family:Menlo,'DejaVu Sans Mono',consolas,'Courier New',monospace\"></pre>\n"
      ],
      "text/plain": []
     },
     "metadata": {},
     "output_type": "display_data"
    },
    {
     "data": {
      "text/html": [
       "<pre style=\"white-space:pre;overflow-x:auto;line-height:normal;font-family:Menlo,'DejaVu Sans Mono',consolas,'Courier New',monospace\">\n",
       "</pre>\n"
      ],
      "text/plain": [
       "\n"
      ]
     },
     "metadata": {},
     "output_type": "display_data"
    },
    {
     "data": {
      "application/vnd.jupyter.widget-view+json": {
       "model_id": "b250a50e5bcf47918dae927fd6de4bbe",
       "version_major": 2,
       "version_minor": 0
      },
      "text/plain": [
       "Output()"
      ]
     },
     "metadata": {},
     "output_type": "display_data"
    },
    {
     "data": {
      "text/html": [
       "<pre style=\"white-space:pre;overflow-x:auto;line-height:normal;font-family:Menlo,'DejaVu Sans Mono',consolas,'Courier New',monospace\">┏━━━━━━━━━━━━━━━━━━━━━━━━━━━┳━━━━━━━━━━━━━━━━━━━━━━━━━━━┓\n",
       "┃<span style=\"font-weight: bold\">      Validate metric      </span>┃<span style=\"font-weight: bold\">       DataLoader 0        </span>┃\n",
       "┡━━━━━━━━━━━━━━━━━━━━━━━━━━━╇━━━━━━━━━━━━━━━━━━━━━━━━━━━┩\n",
       "│<span style=\"color: #008080; text-decoration-color: #008080\">            acc            </span>│<span style=\"color: #800080; text-decoration-color: #800080\">    0.08390839397907257    </span>│\n",
       "│<span style=\"color: #008080; text-decoration-color: #008080\">            ess            </span>│<span style=\"color: #800080; text-decoration-color: #800080\">   0.013945423997938633    </span>│\n",
       "│<span style=\"color: #008080; text-decoration-color: #008080\">            kl             </span>│<span style=\"color: #800080; text-decoration-color: #800080\">    -27.308216094970703    </span>│\n",
       "│<span style=\"color: #008080; text-decoration-color: #008080\">           r_max           </span>│<span style=\"color: #800080; text-decoration-color: #800080\">           840.0           </span>│\n",
       "│<span style=\"color: #008080; text-decoration-color: #008080\">            tau            </span>│<span style=\"color: #800080; text-decoration-color: #800080\">     84.42241668701172     </span>│\n",
       "└───────────────────────────┴───────────────────────────┘\n",
       "</pre>\n"
      ],
      "text/plain": [
       "┏━━━━━━━━━━━━━━━━━━━━━━━━━━━┳━━━━━━━━━━━━━━━━━━━━━━━━━━━┓\n",
       "┃\u001b[1m \u001b[0m\u001b[1m     Validate metric     \u001b[0m\u001b[1m \u001b[0m┃\u001b[1m \u001b[0m\u001b[1m      DataLoader 0       \u001b[0m\u001b[1m \u001b[0m┃\n",
       "┡━━━━━━━━━━━━━━━━━━━━━━━━━━━╇━━━━━━━━━━━━━━━━━━━━━━━━━━━┩\n",
       "│\u001b[36m \u001b[0m\u001b[36m           acc           \u001b[0m\u001b[36m \u001b[0m│\u001b[35m \u001b[0m\u001b[35m   0.08390839397907257   \u001b[0m\u001b[35m \u001b[0m│\n",
       "│\u001b[36m \u001b[0m\u001b[36m           ess           \u001b[0m\u001b[36m \u001b[0m│\u001b[35m \u001b[0m\u001b[35m  0.013945423997938633   \u001b[0m\u001b[35m \u001b[0m│\n",
       "│\u001b[36m \u001b[0m\u001b[36m           kl            \u001b[0m\u001b[36m \u001b[0m│\u001b[35m \u001b[0m\u001b[35m   -27.308216094970703   \u001b[0m\u001b[35m \u001b[0m│\n",
       "│\u001b[36m \u001b[0m\u001b[36m          r_max          \u001b[0m\u001b[36m \u001b[0m│\u001b[35m \u001b[0m\u001b[35m          840.0          \u001b[0m\u001b[35m \u001b[0m│\n",
       "│\u001b[36m \u001b[0m\u001b[36m           tau           \u001b[0m\u001b[36m \u001b[0m│\u001b[35m \u001b[0m\u001b[35m    84.42241668701172    \u001b[0m\u001b[35m \u001b[0m│\n",
       "└───────────────────────────┴───────────────────────────┘\n"
      ]
     },
     "metadata": {},
     "output_type": "display_data"
    },
    {
     "data": {
      "text/html": [
       "<pre style=\"white-space:pre;overflow-x:auto;line-height:normal;font-family:Menlo,'DejaVu Sans Mono',consolas,'Courier New',monospace\"></pre>\n"
      ],
      "text/plain": []
     },
     "metadata": {},
     "output_type": "display_data"
    },
    {
     "data": {
      "text/html": [
       "<pre style=\"white-space:pre;overflow-x:auto;line-height:normal;font-family:Menlo,'DejaVu Sans Mono',consolas,'Courier New',monospace\">\n",
       "</pre>\n"
      ],
      "text/plain": [
       "\n"
      ]
     },
     "metadata": {},
     "output_type": "display_data"
    },
    {
     "data": {
      "image/png": "[encoded data removed]",
      "text/plain": [
       "<Figure size 432x288 with 2 Axes>"
      ]
     },
     "metadata": {
      "needs_background": "light"
     },
     "output_type": "display_data"
    },
    {
     "data": {
      "image/png": "[encoded data removed]",
      "text/plain": [
       "<Figure size 432x288 with 2 Axes>"
      ]
     },
     "metadata": {
      "needs_background": "light"
     },
     "output_type": "display_data"
    },
    {
     "data": {
      "image/png": "[encoded data removed]",
      "text/plain": [
       "<Figure size 432x288 with 2 Axes>"
      ]
     },
     "metadata": {
      "needs_background": "light"
     },
     "output_type": "display_data"
    },
    {
     "data": {
      "image/png": "[encoded data removed]",
      "text/plain": [
       "<Figure size 432x288 with 2 Axes>"
      ]
     },
     "metadata": {
      "needs_background": "light"
     },
     "output_type": "display_data"
    }
   ],
   "source": [
    "L = 6\n",
    "BETA = 0.537\n",
    "LAM = 0.5\n",
    "BATCH_SIZE = 4000\n",
    "N_STEPS = 1000\n",
    "\n",
    "kernel = torch.empty(5, 5).uniform_().div(25)\n",
    "target = PhiFourTarget(BETA, LAM)\n",
    "layers = [ConvLayer(kernel)]\n",
    "model = Model(layers, target, BATCH_SIZE, L)\n",
    "model.layers[0].visualise()\n",
    "\n",
    "trainer = pl.Trainer(\n",
    "    gpus=1,\n",
    "    max_steps=N_STEPS,  # total number of training steps\n",
    "    val_check_interval=10000,  # how often to run sampling\n",
    "    limit_val_batches=1,  # one batch for each val step\n",
    "    callbacks=[RichProgressBar()],\n",
    "    enable_checkpointing=False,  # manually saving checkpoints\n",
    "    num_sanity_val_steps=0,  # don't try to validate before training\n",
    ")\n",
    "\n",
    "\n",
    "trainer.fit(model)\n",
    "_ = trainer.validate(model)\n",
    "\n",
    "outputs = model.step_forward()\n",
    "phi, log_prob = next(outputs)  # prior\n",
    "convnet_phi4.plot.heatmap_correlator(phi)\n",
    "for layer, (phi, log_prob) in zip(model.layers, outputs):\n",
    "    layer.visualise()\n",
    "    convnet_phi4.plot.heatmap_correlator(phi)\n",
    "\n",
    "plt.show()"
   ]
  },
  {
   "cell_type": "code",
   "execution_count": 45,
   "id": "cdbc5376-0eec-4b4d-8075-287a4a12b85e",
   "metadata": {},
   "outputs": [
    {
     "name": "stdout",
     "output_type": "stream",
     "text": [
      "1\n",
      "2\n",
      "3\n",
      "4\n",
      "5\n",
      "6\n",
      "7\n",
      "8\n",
      "9\n"
     ]
    },
    {
     "data": {
      "text/plain": [
       "<AxesSubplot:xlabel='n'>"
      ]
     },
     "execution_count": 45,
     "metadata": {},
     "output_type": "execute_result"
    },
    {
     "data": {
      "image/png": "[encoded data removed]",
      "text/plain": [
       "<Figure size 432x288 with 1 Axes>"
      ]
     },
     "metadata": {
      "needs_background": "light"
     },
     "output_type": "display_data"
    }
   ],
   "source": [
    "L = 6\n",
    "BETA = 0.537\n",
    "LAM = 0.5\n",
    "BATCH_SIZE = 4000\n",
    "N_STEPS = 1000\n",
    "\n",
    "target = PhiFourTarget(BETA, LAM)\n",
    "\n",
    "results_phi4 = []\n",
    "for n in range(1, 10):\n",
    "    print(n)\n",
    "\n",
    "    trainer = pl.Trainer(\n",
    "        gpus=1,\n",
    "        max_steps=N_STEPS,\n",
    "        val_check_interval=10000,\n",
    "        limit_val_batches=1,\n",
    "        enable_checkpointing=False,\n",
    "        enable_progress_bar=False,\n",
    "        num_sanity_val_steps=0,\n",
    "        enable_model_summary=False,\n",
    "    )\n",
    "    kernel = torch.empty(5, 5).uniform_().div(n)\n",
    "    layers = [ConvLayer(kernel) for _ in range(n)]\n",
    "    model = Model(layers, target, BATCH_SIZE, L)\n",
    "\n",
    "    trainer.fit(model)\n",
    "    (metrics,) = trainer.validate(model, verbose=False)\n",
    "    metrics[\"n\"] = n\n",
    "\n",
    "    results_phi4.append(metrics)\n",
    "\n",
    "df = pd.DataFrame(results_phi4)\n",
    "df.plot(\n",
    "    \"n\",\n",
    "    \"acc\",\n",
    ")"
   ]
  },
  {
   "cell_type": "code",
   "execution_count": null,
   "id": "a6d0ec3e-4f26-439b-b0f4-efecc8cc0b83",
   "metadata": {},
   "outputs": [],
   "source": []
  }
 ],
 "metadata": {
  "kernelspec": {
   "display_name": "Python 3 (ipykernel)",
   "language": "python",
   "name": "python3"
  },
  "language_info": {
   "codemirror_mode": {
    "name": "ipython",
    "version": 3
   },
   "file_extension": ".py",
   "mimetype": "text/x-python",
   "name": "python",
   "nbconvert_exporter": "python",
   "pygments_lexer": "ipython3",
   "version": "3.9.12"
  }
 },
 "nbformat": 4,
 "nbformat_minor": 5
}
